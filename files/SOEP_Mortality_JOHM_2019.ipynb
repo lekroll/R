{
 "cells": [
  {
   "cell_type": "markdown",
   "metadata": {},
   "source": [
    "# SOEP Mortality Results for the Paper \"Social differences in mortality and life expectancy. Current situation and trends\" \n",
    "### Submitted for Journal of Health Monitoring with an aimed publication date of March 2019\n",
    "**Authors:**\n",
    "Lars Eric Kroll ([@l_kroll](https://twitter.com/l_kroll)), Jens Hoebel, Thomas Lampert\n",
    "\n",
    "**Date:**\n",
    "17.10.2018\n",
    "\n",
    "**Version:** 1.0\n"
   ]
  },
  {
   "cell_type": "markdown",
   "metadata": {},
   "source": [
    "# Setup"
   ]
  },
  {
   "cell_type": "code",
   "execution_count": 1,
   "metadata": {},
   "outputs": [],
   "source": [
    "# Path\n",
    "setwd(\"~/wissdaten/Abt2_Computation/P3_Mortality\")\n",
    "#setwd(\"~/Desktop/P3_Mortality\")\n",
    "\n",
    "# SCRATCH_DIR\n",
    "scratch <- \"~/SCRATCH_NOBAK/\"\n",
    "# scratch <- \"data/\" # home\n",
    "\n",
    "# Log\n",
    "sink(\"Logged_Output.txt\", append =FALSE)\n",
    "\n",
    "# Stop log\n",
    "sink()"
   ]
  },
  {
   "cell_type": "code",
   "execution_count": 2,
   "metadata": {},
   "outputs": [],
   "source": [
    "# Attach libraries\n",
    "options(tidyverse.quiet = TRUE)\n",
    "library(\"tidyverse\", warn.conflicts=FALSE, quiet=TRUE)\n",
    "library(\"broom\", warn.conflicts=FALSE, quiet=TRUE)\n",
    "library(\"stringr\", warn.conflicts=FALSE, quiet=TRUE)\n",
    "library(\"survival\", warn.conflicts=FALSE, quiet=TRUE)\n",
    "library(\"rkicolors\", warn.conflicts=FALSE, quiet=TRUE) \n",
    "library(\"wec\", warn.conflicts=FALSE, quiet=TRUE)\n",
    "library(\"ggfortify\", warn.conflicts=FALSE, quiet=TRUE)\n",
    "library(\"haven\", warn.conflicts=FALSE, quiet=TRUE)\n",
    "suppressPackageStartupMessages(library(\"survey\", warn.conflicts=FALSE, quiet=TRUE))\n",
    "library(\"srvyr\", warn.conflicts=FALSE, quiet=TRUE)\n",
    "library(\"foreach\", warn.conflicts=FALSE, quiet=TRUE)\n",
    "library(\"doMC\", warn.conflicts=FALSE, quiet=TRUE)\n",
    "library(\"openxlsx\", warn.conflicts=FALSE, quiet=TRUE)\n",
    "\n",
    "# Jupyter Set-up\n",
    "options(repr.plot.width=6, repr.plot.height=(6/16)*9 , repr.plot.dpi=300)\n",
    "options(jupyter.plot_mimetypes = c(\"text/plain\", \"image/png\" ))"
   ]
  },
  {
   "cell_type": "markdown",
   "metadata": {},
   "source": [
    "# Data Management\n",
    "We use data from GSOEP which can be obtained [here](https://www.diw.de/en/diw_02.c.222518.en/research_data_center_of_the_soep.html) as well as annual death rates based on the official German Life Tables which can be obtained from the [Federal Statistical Office for Germany](www.destatis.de)."
   ]
  },
  {
   "cell_type": "markdown",
   "metadata": {},
   "source": [
    "## SOEP\n"
   ]
  },
  {
   "cell_type": "markdown",
   "metadata": {},
   "source": [
    "### Load SOEP Data\n",
    "We used the long format of SOEP and performed custom computations and matching of multiple long format files. The Methods of the data matching and creation of our working dataset called *\"soep_arbeitsdaten.dta\"* cannot be described in detail here. "
   ]
  },
  {
   "cell_type": "code",
   "execution_count": 3,
   "metadata": {},
   "outputs": [],
   "source": [
    "# Log to File\n",
    "sink(\"Logged_Output.txt\", append =TRUE)\n",
    "\n",
    "# Load recoded SOEP data\n",
    "dir.create(paste0(scratch,\"v33\"), showWarnings =FALSE)\n",
    "invisible(file.copy(\"data/v33/soep_trend_full.dta\",paste0(scratch,\"v33/soep_trend_full.dta\"),overwrite=F))\n",
    "invisible(file.copy(\"data/v33/soep_arbeitsdaten.dta\",paste0(scratch,\"v33/soep_arbeitsdaten.dta\"),overwrite=F))\n",
    "\n",
    "soep <- read_dta(paste0(scratch,\"v33/soep_arbeitsdaten.dta\"))\n",
    "\n",
    "soep.rec <- soep %>% ungroup() %>%\n",
    "    select(pid,hid,cid,sex,age,year=syear,\n",
    "           todjahr,todinfo,contains(\"hrf\"),\n",
    "           SDeqinc,SDincpos,SDcasmin) %>%\n",
    "mutate(\n",
    "    gebjahr=year-age,\n",
    "    SDincpos_grp = ifelse(SDincpos<0.60, \"<60%\",NA),\n",
    "    SDincpos_grp = ifelse(SDincpos>=0.60 & SDincpos<0.80,\" 60%-79%\",SDincpos_grp),\n",
    "    SDincpos_grp = ifelse(SDincpos>=0.80 & SDincpos<1.00, \" 80%-99%\",SDincpos_grp),\n",
    "    SDincpos_grp = ifelse(SDincpos>=1.00 & SDincpos<1.50, \"100%-149%\",SDincpos_grp),\n",
    "    SDincpos_grp = ifelse(SDincpos>=1.50, \"150% u.m.\",SDincpos_grp),\n",
    "    SDincpos_grp = factor(SDincpos_grp, levels=c(\"<60%\",\" 60%-79%\",\" 80%-99%\",\"100%-149%\",\"150% u.m.\")),\n",
    "    sex=ifelse(sex==1,\"M\",\"W\"),\n",
    "    SDcasmin=as_factor(SDcasmin)) %>%\n",
    "rename(\"incpos\"=SDincpos_grp)\n",
    "\n",
    "andata <- soep.rec %>% filter(year>=1992) %>%\n",
    "    group_by(pid) %>% arrange(pid,year) %>%\n",
    "    mutate(\n",
    "        SurvJahr=ifelse(is.na(todjahr),max(year),todjahr),\n",
    "        SurvTime=ifelse(is.na(todjahr),max(age),todjahr-gebjahr),\n",
    "        death=ifelse(is.na(todjahr),0,1)) %>% ungroup()\n",
    "sink()"
   ]
  },
  {
   "cell_type": "markdown",
   "metadata": {},
   "source": [
    "### Show Properties of the SOEP Dataset for mortality analysis\n",
    "The following stept analyzes the SOEP Dataset regarding the available Information on Mortality. We show numbers of deaths, persons and episodes and investigate the association of \"Fate Studies\" for Nonresponders on the number of recorded deaths per year in reference to the sample size."
   ]
  },
  {
   "cell_type": "code",
   "execution_count": 4,
   "metadata": {},
   "outputs": [
    {
     "data": {
      "text/html": [
       "<table>\n",
       "<thead><tr><th scope=col>Episodes</th></tr></thead>\n",
       "<tbody>\n",
       "\t<tr><td>617550</td></tr>\n",
       "</tbody>\n",
       "</table>\n"
      ],
      "text/latex": [
       "\\begin{tabular}{r|l}\n",
       " Episodes\\\\\n",
       "\\hline\n",
       "\t 617550\\\\\n",
       "\\end{tabular}\n"
      ],
      "text/markdown": [
       "\n",
       "Episodes | \n",
       "|---|\n",
       "| 617550 | \n",
       "\n",
       "\n"
      ],
      "text/plain": [
       "  Episodes\n",
       "1 617550  "
      ]
     },
     "metadata": {},
     "output_type": "display_data"
    },
    {
     "data": {
      "text/html": [
       "<table>\n",
       "<thead><tr><th scope=col>Respondents</th></tr></thead>\n",
       "<tbody>\n",
       "\t<tr><td>83287</td></tr>\n",
       "</tbody>\n",
       "</table>\n"
      ],
      "text/latex": [
       "\\begin{tabular}{r|l}\n",
       " Respondents\\\\\n",
       "\\hline\n",
       "\t 83287\\\\\n",
       "\\end{tabular}\n"
      ],
      "text/markdown": [
       "\n",
       "Respondents | \n",
       "|---|\n",
       "| 83287 | \n",
       "\n",
       "\n"
      ],
      "text/plain": [
       "  Respondents\n",
       "1 83287      "
      ]
     },
     "metadata": {},
     "output_type": "display_data"
    },
    {
     "data": {
      "text/html": [
       "<table>\n",
       "<thead><tr><th scope=col>Deaths</th></tr></thead>\n",
       "<tbody>\n",
       "\t<tr><td>4193</td></tr>\n",
       "</tbody>\n",
       "</table>\n"
      ],
      "text/latex": [
       "\\begin{tabular}{r|l}\n",
       " Deaths\\\\\n",
       "\\hline\n",
       "\t 4193\\\\\n",
       "\\end{tabular}\n"
      ],
      "text/markdown": [
       "\n",
       "Deaths | \n",
       "|---|\n",
       "| 4193 | \n",
       "\n",
       "\n"
      ],
      "text/plain": [
       "  Deaths\n",
       "1 4193  "
      ]
     },
     "metadata": {},
     "output_type": "display_data"
    },
    {
     "data": {},
     "metadata": {},
     "output_type": "display_data"
    },
    {
     "data": {},
     "metadata": {},
     "output_type": "display_data"
    },
    {
     "data": {
      "image/png": "[encoded data removed]",
      "text/plain": [
       "plot without title"
      ]
     },
     "metadata": {},
     "output_type": "display_data",
     "source": "R display func"
    },
    {
     "data": {},
     "metadata": {},
     "output_type": "display_data"
    },
    {
     "data": {
      "image/png": "[encoded data removed]",
      "text/plain": [
       "plot without title"
      ]
     },
     "metadata": {},
     "output_type": "display_data",
     "source": "R display func"
    },
    {
     "data": {
      "image/png": "[encoded data removed]",
      "text/plain": [
       "plot without title"
      ]
     },
     "metadata": {},
     "output_type": "display_data",
     "source": "R display func"
    }
   ],
   "source": [
    "andata %>% summarise(Episodes=n())\n",
    "as_tibble(andata) %>% group_by(pid) %>% filter(row_number()==1) %>% ungroup()  %>% summarise(\"Respondents\"=n())\n",
    "as_tibble(andata) %>% group_by(pid) %>% filter(row_number()==1) %>% ungroup() %>% filter(!is.na(todjahr)) %>% as_tibble() %>% summarise(\"Deaths\"=n()) \n",
    "\n",
    "plotdata <- left_join(andata %>% filter(tsphrf>0) %>% mutate( year = as.numeric(year)) %>% group_by(year) %>% summarise(Respondents=n(), Mean_Age =mean(age, na.rm=T)) ,\n",
    "andata %>% group_by(pid) %>% filter(row_number()==1)  %>% mutate(todinfo=as_factor(todinfo))  %>% \n",
    "                      filter(!is.na(todjahr)) %>% group_by(todjahr) %>% count() %>% ungroup() %>% \n",
    "                      rename(year=todjahr,Deaths=n) %>%\n",
    "                      mutate(Deaths=ifelse(is.na(Deaths),0,Deaths),\n",
    "                             year = as.numeric(year)), by=\"year\")\n",
    "\n",
    "# Plot Respondents\n",
    "plot.soep.respondents <- ggplot(plotdata,aes(x=year,y=Respondents, fill=\"x\")) + geom_bar(stat=\"identity\") + theme_rki() +\n",
    "scale_fill_rki(\"qualitative\") + labs(fill=\"\",y=\"\",caption=\"SOEP Participants\",x=\"\") + guides(fill=FALSE) +\n",
    "theme(legend.position=\"bottom\") \n",
    "\n",
    "# Plot Deaths\n",
    "plot.soep.deaths <- andata %>% group_by(pid) %>% filter(row_number()==1) %>% mutate(info= case_when(todinfo %in% c(5,6,7) ~ \"Special fate study\",\n",
    "                                            todinfo %in% c(1,2,3,4,8) ~ \"Ongoing Fieldwork\"))  %>% filter(!is.na(todjahr)) %>% group_by(todjahr,info) %>% count() %>% ungroup() %>%\n",
    "ggplot(.,aes(x=todjahr,y=n, fill=info)) + \n",
    "geom_bar(stat=\"identity\") + theme_rki() + scale_fill_rki(\"qualitative\") + labs(fill=\"\",y=\"\",caption=\"Sources of Death Cases\",x=\"\") +\n",
    "theme(legend.position=\"bottom\") \n",
    "\n",
    "# Plot Comparison with and without fate studies\n",
    "plot.soep.deathrates <- ggplot(plotdata %>% filter(!is.na(Deaths)), aes(y=Deaths,x=Respondents/1000)) + geom_smooth(method=\"gam\") + geom_point() + \n",
    "facet_grid(. ~ ifelse(year<2009,\"Before 2009\",\"2009 and later\")) + theme_rki() + scale_fill_rki() + scale_color_rki() +\n",
    "labs(x=\"Respondents (1k)\", y=\"Death Cases\") + scale_x_continuous(limits=c(10,40))\n",
    "\n",
    "# Write Info to Excel\n",
    "write.xlsx(plotdata, file = \"Results_Mortality.xlsx\", sheetName=\"SOEP\")\n",
    "\n",
    "# Write Plots to Excel\n",
    "wb <- loadWorkbook(\"Results_Mortality.xlsx\")\n",
    "plot.soep.respondents\n",
    "insertPlot(wb, \"SOEP\", width = 7.11, height = 4, startRow = 1,  startCol = 6  , fileType = \"png\", units = \"in\", dpi = 400)\n",
    "plot.soep.deaths\n",
    "insertPlot(wb, \"SOEP\", width = 7.11, height = 4, startRow = 1,  startCol = 18  , fileType = \"png\", units = \"in\", dpi = 400)\n",
    "plot.soep.deathrates\n",
    "insertPlot(wb, \"SOEP\", width = 7.11, height = 4, startRow = 22,  startCol = 6  , fileType = \"png\", units = \"in\", dpi = 400)\n",
    "saveWorkbook(wb, \"Results_Mortality.xlsx\" , overwrite=TRUE)\n"
   ]
  },
  {
   "cell_type": "markdown",
   "metadata": {},
   "source": [
    "### Conclusion\n",
    "\n",
    "Estimates for deaths after 2009 are more unreliable, due to a large number of censored cases with unknown whereabouts as a consequence of missing fate/whereabout data on nonrespondents."
   ]
  },
  {
   "cell_type": "markdown",
   "metadata": {},
   "source": [
    "## Life Tables\n",
    "### Load Data"
   ]
  },
  {
   "cell_type": "code",
   "execution_count": 5,
   "metadata": {},
   "outputs": [],
   "source": [
    "# load data\n",
    "load(\"data/destatis/life_tables_brd.RData\")\n",
    "#lifetables.metadata\n",
    "#head(lifetables.data)\n",
    "\n",
    "# recode data\n",
    "lifetables.rec <- lifetables.data %>% filter(DINSG==\"DG\") %>% \n",
    "    select(sex=GES,year=JAHR,age=ALT577,qx=LEB001_val,LE_orig=LEB007_val) %>%\n",
    "    mutate(sex=as.character(str_sub(sex, 4, -1)),\n",
    "           age=as.numeric(str_sub(age, 8, -1)))  %>%\n",
    "           group_by(sex,year) %>% mutate(qx=ifelse(age==last(age) & qx==last(qx) & last(qx)==0,NA,qx))\n",
    "# Give all Years the same age range\n",
    "lifetables.rec <- lifetables.rec %>% group_by(sex,year) %>% arrange(sex,year,age) %>%\n",
    "mutate(qx=ifelse(age==last(age) & qx==0, NA,qx),lastage=max(age)) %>%\n",
    "left_join(expand.grid(\"sex\"=unique(lifetables.rec$sex),\"year\"=unique(lifetables.rec$year),\"age\"=seq(0:112)) %>% arrange(year,sex,age) %>% mutate(sex=as.character(sex)),.\n",
    "          , by=c(\"sex\",\"year\",\"age\")) %>%  group_by(sex,year) %>% \n",
    "mutate(lastage=max(lastage,na.rm=T),qx=ifelse(is.na(qx),max(qx, na.rm=T)*1.06^(age-lastage-1),qx)) %>% select(-lastage) %>% mutate(age=age-1)"
   ]
  },
  {
   "cell_type": "markdown",
   "metadata": {},
   "source": [
    "### Function to calculate Life Expectancy"
   ]
  },
  {
   "cell_type": "code",
   "execution_count": 6,
   "metadata": {},
   "outputs": [
    {
     "name": "stderr",
     "output_type": "stream",
     "text": [
      "Adding missing grouping variables: `year`\n",
      "Joining, by = c(\"sex\", \"year\", \"age\")\n",
      "Joining, by = c(\"sex\", \"year\", \"age\", \"qx\", \"LE_orig\")\n"
     ]
    },
    {
     "data": {
      "text/html": [
       "<table>\n",
       "<thead><tr><th scope=col>sex</th><th scope=col>Mean_Diff</th></tr></thead>\n",
       "<tbody>\n",
       "\t<tr><td>M          </td><td> 0.03827063</td></tr>\n",
       "\t<tr><td>W          </td><td>-0.01934891</td></tr>\n",
       "</tbody>\n",
       "</table>\n"
      ],
      "text/latex": [
       "\\begin{tabular}{r|ll}\n",
       " sex & Mean\\_Diff\\\\\n",
       "\\hline\n",
       "\t M           &  0.03827063\\\\\n",
       "\t W           & -0.01934891\\\\\n",
       "\\end{tabular}\n"
      ],
      "text/markdown": [
       "\n",
       "sex | Mean_Diff | \n",
       "|---|---|\n",
       "| M           |  0.03827063 | \n",
       "| W           | -0.01934891 | \n",
       "\n",
       "\n"
      ],
      "text/plain": [
       "  sex Mean_Diff  \n",
       "1 M    0.03827063\n",
       "2 W   -0.01934891"
      ]
     },
     "metadata": {},
     "output_type": "display_data"
    },
    {
     "name": "stderr",
     "output_type": "stream",
     "text": [
      "`geom_smooth()` using method = 'loess'\n"
     ]
    },
    {
     "data": {},
     "metadata": {},
     "output_type": "display_data"
    },
    {
     "data": {
      "image/png": "[encoded data removed]",
      "text/plain": [
       "plot without title"
      ]
     },
     "metadata": {},
     "output_type": "display_data",
     "source": "R display func"
    }
   ],
   "source": [
    "# Function to calculate life expactancies from death rates.\n",
    "life_expectancy <- function(data,deathrate=\"qx\",age=\"age\",indicator=\"ex_t\"){\n",
    "   tempdata <- data %>%  rename(\"deathrate\"=deathrate,\"age\"=age)  %>% group_by(age, add=T) %>% summarise(deathrate=mean(deathrate))\n",
    "   group_vars <- setdiff(names(tempdata) ,c(\"age\",\"deathrate\")) \n",
    "   tempdata %>% group_by_at(group_vars) %>%\n",
    "   mutate(S_t = ifelse(age==0,1,NA),\n",
    "           S_t = ifelse(age>0,1-lag(deathrate),S_t),\n",
    "           S_t = cumprod(S_t),\n",
    "           H_t = 1-S_t,                 \n",
    "           ex_t= cumsum(S_t),\n",
    "           ex_t= last(ex_t)-ex_t+.45) %>% select(-deathrate)   %>%     \n",
    "    select_(group_vars,age,indicator) %>% left_join(data,.)\n",
    "}\n",
    "\n",
    "le.comparison.methods <- left_join(lifetables.rec,lifetables.rec %>% group_by(sex,year) %>% life_expectancy(.)) %>% \n",
    "    rename(LE_function = ex_t) %>% filter(age==0) %>% \n",
    "    mutate(Difference=LE_orig-LE_function)\n",
    "le.comparison.methods %>% group_by(sex) %>% summarise(Mean_Diff = mean(Difference))\n",
    "ggplot(le.comparison.methods ,aes(x=year,color=sex,y=Difference)) + geom_smooth() + theme_rki() + scale_color_rki() + scale_y_continuous(limits=c(-1,1)) + labs(y=\"Diff. of approx. fcn and off. values\")"
   ]
  },
  {
   "cell_type": "markdown",
   "metadata": {},
   "source": [
    "The Function to compute life expectancies based on age specific death rates (`life_expectancy()`) produces a high accuracy when compared to the calculations that were provided by DESTATIS (via Indcicator `LEB006`). We conclude that it can be used to approximate group specific life expectancies."
   ]
  },
  {
   "cell_type": "markdown",
   "metadata": {},
   "source": [
    "# Analysis\n",
    "\n",
    "The analytical strategy was first outlined by Kroll, Lampert (2009) [PDF](https://www.gesis.org/fileadmin/upload/forschung/publikationen/zeitschriften/mda/Vol.3_Heft_1/02_Kroll.pdf) and is slightly modified for the current analysis. We will analyse the data in the following steps: \n",
    "1. Analyse the Inequalities in Mortality using an Indicator for the current Income Position in SOEP for two age groups (0-50,51-101) using Cox Proportional Hazard Regression models (function `svycoxph` from package `survey`).\n",
    "2. Apply the resulting Hazard Ratios as well as their upper and lower confidence bands in effect coding ([cf. source](https://rstudio-pubs-static.s3.amazonaws.com/65059_586f394d8eb84f84b1baaf56ffb6b47f.html)) to death rates from official life tables.\n",
    "3. Calculate life expectancies based on calculated rates including CI"
   ]
  },
  {
   "cell_type": "markdown",
   "metadata": {},
   "source": [
    "## Functions\n",
    "In this section, we will define several functions, that will be used to \n",
    " 1. Create Groups for Analysis, \n",
    " 2. Merge Effects and Lifetable Data \n",
    " 3. Filter data based on group definitions for Survival Analysis\n",
    " 4. Predict Life Expectancies for the results of the regression models\n",
    " 5. Get Number of Cases and Observations depending on survival Status\n",
    " 6. Perform regressions using Effect Coding and provide Estimates in Reference to the Grand Mean for all Levels\n",
    " 7. Combine all Subfunctions\n",
    " 8. Compute some metrics for the results (gradients mortality risk as well as in life expectancy)\n"
   ]
  },
  {
   "cell_type": "code",
   "execution_count": 7,
   "metadata": {},
   "outputs": [],
   "source": [
    "# Create Groups for Analysis\n",
    "create_angroups <- function (data,seqyear=3,seqage=51)\n",
    "{\n",
    "# Sex\n",
    "sex <-  c(\"M\",\"W\")\n",
    "# Time\n",
    "startyear <-min(data$year)\n",
    "stopyear <- max(data$year)-1 # tbd dynamically\n",
    "# Age\n",
    "startage <- 0\n",
    "stopage <- 100 \n",
    "# Define Groups\n",
    "startyear <-seq(startyear,stopyear,seqyear)\n",
    "startage<-seq(startage,stopage,seqage)\n",
    "angroups <- expand.grid(sex=sex,begin=startyear,youngest=startage) %>%   \n",
    "arrange(sex,begin,youngest)  %>% \n",
    "mutate(\n",
    "  group_number=1:n(),  \n",
    "  sex=as.character(sex)  ,\n",
    "  end=begin+seqyear-1,\n",
    "  oldest=youngest+seqage-1) %>%\n",
    "  select(group_number,sex,begin,end,youngest,oldest) \n",
    "print(paste(\"Number of Groups to analyze:\",nrow(angroups)))\n",
    "angroups\n",
    "}\n",
    "\n",
    "# Merge Effects and Lifetable Data\n",
    "merge_lifetable <- function (myResult,groupdefs) {\n",
    "    lifetables.rec %>% filter(sex==groupdefs$sex   &\n",
    "                      year>=groupdefs$begin & \n",
    "                      year<=groupdefs$end &\n",
    "                      age>=groupdefs$youngest &\n",
    "                      age<=groupdefs$oldest) %>%\n",
    "    mutate(begin=groupdefs$begin,end=groupdefs$end) %>% group_by(sex,begin,end,age) %>% summarise(qx=mean(qx,na.rm=T)) %>% ungroup() %>% \n",
    "    left_join(groupdefs,.) %>%\n",
    "    left_join(myResult,.,by=names(groupdefs)) %>%\n",
    "    mutate(qx.base=qx,\n",
    "           qx.low =qx*conf.low,\n",
    "           qx.high=qx*conf.high,\n",
    "           qx     =qx*estimate) \n",
    "}\n",
    "\n",
    "# Predict LE \n",
    "predict_lifexp <- function (myResult) {\n",
    "myResult %>% \n",
    "life_expectancy(.,deathrate=\"qx.base\" ) %>% rename(\"LE_pop\"=ex_t) %>% \n",
    "life_expectancy(.,deathrate=\"qx\" ) %>% rename(\"LE_mean\"=ex_t) %>% \n",
    "life_expectancy(.,deathrate=\"qx.low\" ) %>% rename(\"LE_max\"=ex_t)  %>% \n",
    "life_expectancy(.,deathrate=\"qx.high\" ) %>% rename(\"LE_min\"=ex_t) %>%\n",
    "life_expectancy(.,deathrate=\"qx.base\" , indicator=\"S_t\") %>% rename(\"Surv_pop\"=S_t) %>% \n",
    "life_expectancy(.,deathrate=\"qx\" , indicator=\"S_t\") %>% rename(\"Surv_mean\"=S_t) %>% \n",
    "life_expectancy(.,deathrate=\"qx.low\" , indicator=\"S_t\" ) %>% rename(\"Surv_max\"=S_t)  %>% \n",
    "life_expectancy(.,deathrate=\"qx.high\" , indicator=\"S_t\" ) %>% rename(\"Surv_min\"=S_t) \n",
    "    \n",
    "}\n",
    "\n",
    "# Filter data for Survival Analysis\n",
    "filter_soep <- function (data,groupdefs) {\n",
    "    data %>% \n",
    "    filter(sex==groupdefs$sex &\n",
    "           year>=groupdefs$begin & \n",
    "           year<=groupdefs$end & \n",
    "           age>=groupdefs$youngest &\n",
    "           age<=groupdefs$oldest) %>% \n",
    "    group_by(pid) %>% mutate(tsphrf=mean(tsphrf,na.rm=T)) %>% filter(row_number()==1) %>% \n",
    "    ungroup()    %>% as_survey_design(ids = pid, weight=tsphrf)\n",
    "}\n",
    "# Get Number of Cases and Observations depending on survival Status\n",
    "cases_soep <-  function (data,groupdefs,determinant) {\n",
    "    left_join(data$variables %>%\n",
    "              group_by(pid) %>% filter(row_number()==1) %>% ungroup() %>% group_by_(determinant,\"death\") %>%\n",
    "              summarise(Number = n()) %>% ungroup() %>% \n",
    "              mutate(death=ifelse(death==1,\"Cases Death\",\"Cases Censored\")) %>% \n",
    "              spread(death,Number),\n",
    "       data$variables %>% group_by_(determinant)  %>% summarise(Episodes = n()), \n",
    "        by=c(determinant)) %>% \n",
    "    rename(\"label\"=determinant) %>% filter(!is.na(label)) %>% cbind(groupdefs,., row.names = NULL) %>% mutate(label=as.character(label))\n",
    "}\n",
    "\n",
    "# Get Hazard Ratios from Survival Model\n",
    "survival_reg_soep <- function(data,groupdefs,determinant,controls) {\n",
    "    contrasts(data$variables[[determinant]]) <- \"contr.sum\"\n",
    "    Survdef <- \"Surv(SurvTime, death, type=\\\"right\\\")\"\n",
    "    formula <- as.formula(paste(Survdef, paste(determinant,\"+\",paste(controls, collapse=\" + \")), sep=\" ~ \")) \n",
    "    data  %>% svycoxph(formula, data=. , design=.) %>%    broom::tidy(exponentiate=TRUE) \n",
    "}\n",
    "\n",
    "# Use Effect Coding and provide Estimates in Reference to the Grand Mean for all Levels\n",
    "survival_reg_soep_alllevels <- function(data,groupdefs,determinant,controls) {\n",
    "    # Store original Labels\n",
    "    myLabels <- cbind(term=determinant,label=levels(data$variables[[determinant]])) %>% \n",
    "              as_tibble() %>% \n",
    "              mutate(term=paste0(term,1:n()))    \n",
    "    # Effect coding with standard Refernce Category\n",
    "    data$variables[[determinant]] <- relevel(data$variables[[determinant]], ref=levels(data$variables[[determinant]])[1])\n",
    "    myReg <- invisible(survival_reg_soep(data,groupdefs,determinant,controls))\n",
    "    # Effect coding with alternative Reference Category\n",
    "    data$variables[[determinant]] <- relevel(data$variables[[determinant]], ref=levels(data$variables[[determinant]])[length(levels(data$variables[[determinant]]))])\n",
    "    myReg <- bind_rows(myReg,invisible(survival_reg_soep(data,groupdefs,determinant,controls)) %>%  # filter only last level and rename term accordingly\n",
    "                      filter(term==paste0(determinant,1)) %>% \n",
    "                      mutate(term=paste0(determinant,length(levels(data$variables[[determinant]]))))\n",
    "                      ) %>% arrange(term) \n",
    "    # Merge with label\n",
    "    myReg <-  left_join(myReg,\n",
    "              myLabels, by=\"term\") %>% arrange(.,term,label) \n",
    "myReg\n",
    "}\n",
    "\n",
    "# Combine all Subfunctions\n",
    "survival_soep <- function(data,groupdefs,determinant,controls,byvars) {\n",
    "    # Group Summary\n",
    "    myResult <- data.frame(groupdefs)\n",
    "    # Data\n",
    "    data <- filter_soep(data,groupdefs)\n",
    "    # Case Summary\n",
    "    myResult <- left_join(myResult,cases_soep(data,groupdefs,determinant),by=names(groupdefs))\n",
    "    # Regression\n",
    "    myReg <- survival_reg_soep_alllevels(data,groupdefs,determinant,controls)\n",
    "    # Merge Effects\n",
    "    myResult <- tryCatch(left_join(myResult,data.frame(myReg)), error=function (e) myResult)\n",
    "    myResult                    \n",
    "    }\n",
    "\n",
    "# Gradient low vs. high\n",
    "show_gradient <- function(result) {\n",
    "result %>% select(group_number,sex,begin,end,youngest,oldest,label,estimate,p.value,contains(\"conf\")) %>%\n",
    "  group_by(group_number) %>%  filter(age==min(age)) %>% mutate_at(c(\"estimate\",\"conf.low\", \"conf.high\"), funs(./last(.))) %>% \n",
    "    mutate_at(c(\"estimate\",\"conf.low\", \"conf.high\",\"p.value\"), funs(round(., digits = 4))) %>% filter(label==\"<60%\")\n",
    "}\n",
    "                         \n",
    "# Show Difference low vs. high\n",
    "show_lediff <- function(result,agefilter=0) {\n",
    "    result %>% filter(age==agefilter ) %>%  group_by(sex,begin,end) %>% select(sex,begin,end,label,contains(\"LE_\"))  %>%\n",
    "arrange(sex,begin,label) %>% summarise(Diff_label=paste0(first(label),\" vs. \",last(label)), \n",
    "                                      Diff = round(last(LE_mean)-first(LE_mean),digits=1),\n",
    "                                      Diff_min= round(last(LE_min)-first(LE_max),digits=1),\n",
    "                                      Diff_max= round(last(LE_max)-first(LE_min),digits=1))\n",
    "}\n",
    "                         \n",
    "# Test Functions\n",
    "#================\n",
    "#andata$variables  %>% count(year) %>% arrange(-n) %>% head(.)\n",
    "#andata$variables  %>% count(pid) %>% count(n) %>% head(.)\n",
    "# filter_soep(andata,angroups[1,]) %>% head(.)\n",
    "# survival_reg_soep_alllevels(filter_soep(andata,angroups[1,]),angroups[1,],\"incpos\",\"age\")\n",
    "# survival_soep(andata,angroups[1,],\"incpos\",\"age\")\n",
    "# survival_soep(andata,angroups[1,],\"incpos\",\"age\") %>% merge_lifetable(.,angroups[1,]) %>% head(10)"
   ]
  },
  {
   "cell_type": "markdown",
   "metadata": {},
   "source": [
    "## Results"
   ]
  },
  {
   "cell_type": "markdown",
   "metadata": {},
   "source": [
    "We will now perform our analysis using the predefined functions. We decided to provide results for the whole observational period (1992-2016) currently available in [SOEP](https://www.diw.de/SOEPfdz). Additionally we decided to compare risks for two age groups (0-50, 51+). This was due to limited death cases before the age of 51 (see next plot)."
   ]
  },
  {
   "cell_type": "code",
   "execution_count": 8,
   "metadata": {},
   "outputs": [
    {
     "data": {},
     "metadata": {},
     "output_type": "display_data"
    },
    {
     "data": {},
     "metadata": {},
     "output_type": "display_data"
    },
    {
     "data": {
      "image/png": "[encoded data removed]",
      "text/plain": [
       "plot without title"
      ]
     },
     "metadata": {},
     "output_type": "display_data",
     "source": "R display func"
    },
    {
     "data": {
      "image/png": "[encoded data removed]",
      "text/plain": [
       "plot without title"
      ]
     },
     "metadata": {},
     "output_type": "display_data",
     "source": "R display func"
    }
   ],
   "source": [
    "andata %>% filter(!is.na(todjahr)) %>% group_by(pid) %>% filter(row_number()==1) %>%\n",
    "group_by(sex) %>% count(SurvTime) %>% ungroup() %>% mutate(sex=ifelse(sex==\"M\",\"Men\",\"Women\")) %>%\n",
    "ggplot(aes(x=sex, y=SurvTime, fill=sex)) + geom_boxplot() + \n",
    " theme_rki() + scale_fill_rki() + labs(y=\"Age at Death\", x=\"\") + guides(fill=FALSE)\n",
    "\n",
    "andata %>% filter(!is.na(todjahr)) %>% group_by(pid, year) %>% filter(row_number()==1) %>%\n",
    "group_by(sex,year) %>% count(SurvTime) %>% ungroup() %>% mutate(sex=ifelse(sex==\"M\",\"Men\",\"Women\"),\n",
    "                                                               agegroup=cut(SurvTime, breaks=c(0, 25, 50, 65, Inf), labels=c(\"0-25\",\"26-50\",\"51-65\",\"65+\")),\n",
    "                                                               year=floor(year/4)*4+2) %>%\n",
    "ggplot(aes(x=year, fill=sex)) + geom_bar() + \n",
    " theme_rki() + scale_fill_rki() + labs(y=\"Death Cases\", x=\"\") + guides(fill=FALSE) + facet_grid(agegroup ~ sex)\n"
   ]
  },
  {
   "cell_type": "code",
   "execution_count": 9,
   "metadata": {},
   "outputs": [
    {
     "name": "stdout",
     "output_type": "stream",
     "text": [
      "[1] \"Number of Groups to analyze: 4\"\n",
      "[1] \"Number of Groups to analyze: 24\"\n"
     ]
    }
   ],
   "source": [
    "# Set and show analysis Groups\n",
    "angroups_all <- create_angroups(andata,seqyear=25, seqage=51)\n",
    "angroups <- create_angroups(andata,seqyear=4, seqage=51)"
   ]
  },
  {
   "cell_type": "markdown",
   "metadata": {},
   "source": [
    "### Overall Life Expectacy for Obervational Period"
   ]
  },
  {
   "cell_type": "code",
   "execution_count": 10,
   "metadata": {},
   "outputs": [
    {
     "name": "stderr",
     "output_type": "stream",
     "text": [
      "Joining, by = c(\"sex\", \"age\")\n"
     ]
    },
    {
     "data": {
      "text/html": [
       "<table>\n",
       "<thead><tr><th scope=col>sex</th><th scope=col>0</th><th scope=col>65</th></tr></thead>\n",
       "<tbody>\n",
       "\t<tr><td>M       </td><td>75.05118</td><td>12.52935</td></tr>\n",
       "\t<tr><td>W       </td><td>80.76696</td><td>17.04319</td></tr>\n",
       "</tbody>\n",
       "</table>\n"
      ],
      "text/latex": [
       "\\begin{tabular}{r|lll}\n",
       " sex & 0 & 65\\\\\n",
       "\\hline\n",
       "\t M        & 75.05118 & 12.52935\\\\\n",
       "\t W        & 80.76696 & 17.04319\\\\\n",
       "\\end{tabular}\n"
      ],
      "text/markdown": [
       "\n",
       "sex | 0 | 65 | \n",
       "|---|---|\n",
       "| M        | 75.05118 | 12.52935 | \n",
       "| W        | 80.76696 | 17.04319 | \n",
       "\n",
       "\n"
      ],
      "text/plain": [
       "  sex 0        65      \n",
       "1 M   75.05118 12.52935\n",
       "2 W   80.76696 17.04319"
      ]
     },
     "metadata": {},
     "output_type": "display_data"
    }
   ],
   "source": [
    "lifetables.rec %>% filter(year>=1992 & year<=2016) %>% group_by(sex,age)  %>% summarise(qx=mean(qx,na.rm=T)) %>% group_by(sex) %>% life_expectancy(.) %>% filter(age==0 | age==65) %>% select(-qx) %>% spread(age,ex_t)"
   ]
  },
  {
   "cell_type": "markdown",
   "metadata": {},
   "source": [
    "### Computation"
   ]
  },
  {
   "cell_type": "code",
   "execution_count": 11,
   "metadata": {},
   "outputs": [
    {
     "name": "stdout",
     "output_type": "stream",
     "text": [
      "Independent Sampling design (with replacement)\n",
      "Called via srvyr\n",
      "Sampling variables:\n",
      " - ids: pid\n",
      " - weights: tsphrf\n",
      "Independent Sampling design (with replacement)\n",
      "Called via srvyr\n",
      "Sampling variables:\n",
      " - ids: pid\n",
      " - weights: tsphrf\n"
     ]
    },
    {
     "name": "stderr",
     "output_type": "stream",
     "text": [
      "Joining, by = \"label\"\n",
      "Joining, by = c(\"sex\", \"begin\", \"end\")\n"
     ]
    },
    {
     "name": "stdout",
     "output_type": "stream",
     "text": [
      "Independent Sampling design (with replacement)\n",
      "Called via srvyr\n",
      "Sampling variables:\n",
      " - ids: pid\n",
      " - weights: tsphrf\n",
      "Independent Sampling design (with replacement)\n",
      "Called via srvyr\n",
      "Sampling variables:\n",
      " - ids: pid\n",
      " - weights: tsphrf\n"
     ]
    },
    {
     "name": "stderr",
     "output_type": "stream",
     "text": [
      "Joining, by = \"label\"\n",
      "Joining, by = c(\"sex\", \"begin\", \"end\")\n"
     ]
    },
    {
     "name": "stdout",
     "output_type": "stream",
     "text": [
      "Independent Sampling design (with replacement)\n",
      "Called via srvyr\n",
      "Sampling variables:\n",
      " - ids: pid\n",
      " - weights: tsphrf\n",
      "Independent Sampling design (with replacement)\n",
      "Called via srvyr\n",
      "Sampling variables:\n",
      " - ids: pid\n",
      " - weights: tsphrf\n"
     ]
    },
    {
     "name": "stderr",
     "output_type": "stream",
     "text": [
      "Joining, by = \"label\"\n",
      "Joining, by = c(\"sex\", \"begin\", \"end\")\n"
     ]
    },
    {
     "name": "stdout",
     "output_type": "stream",
     "text": [
      "Independent Sampling design (with replacement)\n",
      "Called via srvyr\n",
      "Sampling variables:\n",
      " - ids: pid\n",
      " - weights: tsphrf\n",
      "Independent Sampling design (with replacement)\n",
      "Called via srvyr\n",
      "Sampling variables:\n",
      " - ids: pid\n",
      " - weights: tsphrf\n"
     ]
    },
    {
     "name": "stderr",
     "output_type": "stream",
     "text": [
      "Joining, by = \"label\"\n",
      "Joining, by = c(\"sex\", \"begin\", \"end\")\n"
     ]
    },
    {
     "name": "stdout",
     "output_type": "stream",
     "text": [
      "Independent Sampling design (with replacement)\n",
      "Called via srvyr\n",
      "Sampling variables:\n",
      " - ids: pid\n",
      " - weights: tsphrf\n",
      "Independent Sampling design (with replacement)\n",
      "Called via srvyr\n",
      "Sampling variables:\n",
      " - ids: pid\n",
      " - weights: tsphrf\n"
     ]
    },
    {
     "name": "stderr",
     "output_type": "stream",
     "text": [
      "Joining, by = \"label\"\n",
      "Joining, by = c(\"sex\", \"begin\", \"end\")\n"
     ]
    },
    {
     "name": "stdout",
     "output_type": "stream",
     "text": [
      "Independent Sampling design (with replacement)\n",
      "Called via srvyr\n",
      "Sampling variables:\n",
      " - ids: pid\n",
      " - weights: tsphrf\n",
      "Independent Sampling design (with replacement)\n",
      "Called via srvyr\n",
      "Sampling variables:\n",
      " - ids: pid\n",
      " - weights: tsphrf\n"
     ]
    },
    {
     "name": "stderr",
     "output_type": "stream",
     "text": [
      "Joining, by = \"label\"\n",
      "Joining, by = c(\"sex\", \"begin\", \"end\")\n"
     ]
    },
    {
     "name": "stdout",
     "output_type": "stream",
     "text": [
      "Independent Sampling design (with replacement)\n",
      "Called via srvyr\n",
      "Sampling variables:\n",
      " - ids: pid\n",
      " - weights: tsphrf\n",
      "Independent Sampling design (with replacement)\n",
      "Called via srvyr\n",
      "Sampling variables:\n",
      " - ids: pid\n",
      " - weights: tsphrf\n"
     ]
    },
    {
     "name": "stderr",
     "output_type": "stream",
     "text": [
      "Joining, by = \"label\"\n",
      "Joining, by = c(\"sex\", \"begin\", \"end\")\n"
     ]
    },
    {
     "name": "stdout",
     "output_type": "stream",
     "text": [
      "Independent Sampling design (with replacement)\n",
      "Called via srvyr\n",
      "Sampling variables:\n",
      " - ids: pid\n",
      " - weights: tsphrf\n",
      "Independent Sampling design (with replacement)\n",
      "Called via srvyr\n",
      "Sampling variables:\n",
      " - ids: pid\n",
      " - weights: tsphrf\n"
     ]
    },
    {
     "name": "stderr",
     "output_type": "stream",
     "text": [
      "Joining, by = \"label\"\n",
      "Joining, by = c(\"sex\", \"begin\", \"end\")\n"
     ]
    },
    {
     "name": "stdout",
     "output_type": "stream",
     "text": [
      "Independent Sampling design (with replacement)\n",
      "Called via srvyr\n",
      "Sampling variables:\n",
      " - ids: pid\n",
      " - weights: tsphrf\n",
      "Independent Sampling design (with replacement)\n",
      "Called via srvyr\n",
      "Sampling variables:\n",
      " - ids: pid\n",
      " - weights: tsphrf\n"
     ]
    },
    {
     "name": "stderr",
     "output_type": "stream",
     "text": [
      "Joining, by = \"label\"\n",
      "Joining, by = c(\"sex\", \"begin\", \"end\")\n"
     ]
    },
    {
     "name": "stdout",
     "output_type": "stream",
     "text": [
      "Independent Sampling design (with replacement)\n",
      "Called via srvyr\n",
      "Sampling variables:\n",
      " - ids: pid\n",
      " - weights: tsphrf\n",
      "Independent Sampling design (with replacement)\n",
      "Called via srvyr\n",
      "Sampling variables:\n",
      " - ids: pid\n",
      " - weights: tsphrf\n"
     ]
    },
    {
     "name": "stderr",
     "output_type": "stream",
     "text": [
      "Joining, by = \"label\"\n",
      "Joining, by = c(\"sex\", \"begin\", \"end\")\n"
     ]
    },
    {
     "name": "stdout",
     "output_type": "stream",
     "text": [
      "Independent Sampling design (with replacement)\n",
      "Called via srvyr\n",
      "Sampling variables:\n",
      " - ids: pid\n",
      " - weights: tsphrf\n",
      "Independent Sampling design (with replacement)\n",
      "Called via srvyr\n",
      "Sampling variables:\n",
      " - ids: pid\n",
      " - weights: tsphrf\n"
     ]
    },
    {
     "name": "stderr",
     "output_type": "stream",
     "text": [
      "Joining, by = \"label\"\n",
      "Joining, by = c(\"sex\", \"begin\", \"end\")\n"
     ]
    },
    {
     "name": "stdout",
     "output_type": "stream",
     "text": [
      "Independent Sampling design (with replacement)\n",
      "Called via srvyr\n",
      "Sampling variables:\n",
      " - ids: pid\n",
      " - weights: tsphrf\n",
      "Independent Sampling design (with replacement)\n",
      "Called via srvyr\n",
      "Sampling variables:\n",
      " - ids: pid\n",
      " - weights: tsphrf\n"
     ]
    },
    {
     "name": "stderr",
     "output_type": "stream",
     "text": [
      "Joining, by = \"label\"\n",
      "Joining, by = c(\"sex\", \"begin\", \"end\")\n"
     ]
    },
    {
     "name": "stdout",
     "output_type": "stream",
     "text": [
      "Independent Sampling design (with replacement)\n",
      "Called via srvyr\n",
      "Sampling variables:\n",
      " - ids: pid\n",
      " - weights: tsphrf\n",
      "Independent Sampling design (with replacement)\n",
      "Called via srvyr\n",
      "Sampling variables:\n",
      " - ids: pid\n",
      " - weights: tsphrf\n"
     ]
    },
    {
     "name": "stderr",
     "output_type": "stream",
     "text": [
      "Joining, by = \"label\"\n",
      "Joining, by = c(\"sex\", \"begin\", \"end\")\n"
     ]
    },
    {
     "name": "stdout",
     "output_type": "stream",
     "text": [
      "Independent Sampling design (with replacement)\n",
      "Called via srvyr\n",
      "Sampling variables:\n",
      " - ids: pid\n",
      " - weights: tsphrf\n",
      "Independent Sampling design (with replacement)\n",
      "Called via srvyr\n",
      "Sampling variables:\n",
      " - ids: pid\n",
      " - weights: tsphrf\n"
     ]
    },
    {
     "name": "stderr",
     "output_type": "stream",
     "text": [
      "Joining, by = \"label\"\n",
      "Joining, by = c(\"sex\", \"begin\", \"end\")\n"
     ]
    },
    {
     "name": "stdout",
     "output_type": "stream",
     "text": [
      "Independent Sampling design (with replacement)\n",
      "Called via srvyr\n",
      "Sampling variables:\n",
      " - ids: pid\n",
      " - weights: tsphrf\n",
      "Independent Sampling design (with replacement)\n",
      "Called via srvyr\n",
      "Sampling variables:\n",
      " - ids: pid\n",
      " - weights: tsphrf\n"
     ]
    },
    {
     "name": "stderr",
     "output_type": "stream",
     "text": [
      "Joining, by = \"label\"\n",
      "Joining, by = c(\"sex\", \"begin\", \"end\")\n"
     ]
    },
    {
     "name": "stdout",
     "output_type": "stream",
     "text": [
      "Independent Sampling design (with replacement)\n",
      "Called via srvyr\n",
      "Sampling variables:\n",
      " - ids: pid\n",
      " - weights: tsphrf\n",
      "Independent Sampling design (with replacement)\n",
      "Called via srvyr\n",
      "Sampling variables:\n",
      " - ids: pid\n",
      " - weights: tsphrf\n"
     ]
    },
    {
     "name": "stderr",
     "output_type": "stream",
     "text": [
      "Joining, by = \"label\"\n",
      "Joining, by = c(\"sex\", \"begin\", \"end\")\n"
     ]
    },
    {
     "name": "stdout",
     "output_type": "stream",
     "text": [
      "Independent Sampling design (with replacement)\n",
      "Called via srvyr\n",
      "Sampling variables:\n",
      " - ids: pid\n",
      " - weights: tsphrf\n",
      "Independent Sampling design (with replacement)\n",
      "Called via srvyr\n",
      "Sampling variables:\n",
      " - ids: pid\n",
      " - weights: tsphrf\n"
     ]
    },
    {
     "name": "stderr",
     "output_type": "stream",
     "text": [
      "Joining, by = \"label\"\n",
      "Joining, by = c(\"sex\", \"begin\", \"end\")\n"
     ]
    },
    {
     "name": "stdout",
     "output_type": "stream",
     "text": [
      "Independent Sampling design (with replacement)\n",
      "Called via srvyr\n",
      "Sampling variables:\n",
      " - ids: pid\n",
      " - weights: tsphrf\n",
      "Independent Sampling design (with replacement)\n",
      "Called via srvyr\n",
      "Sampling variables:\n",
      " - ids: pid\n",
      " - weights: tsphrf\n"
     ]
    },
    {
     "name": "stderr",
     "output_type": "stream",
     "text": [
      "Joining, by = \"label\"\n",
      "Joining, by = c(\"sex\", \"begin\", \"end\")\n"
     ]
    },
    {
     "name": "stdout",
     "output_type": "stream",
     "text": [
      "Independent Sampling design (with replacement)\n",
      "Called via srvyr\n",
      "Sampling variables:\n",
      " - ids: pid\n",
      " - weights: tsphrf\n",
      "Independent Sampling design (with replacement)\n",
      "Called via srvyr\n",
      "Sampling variables:\n",
      " - ids: pid\n",
      " - weights: tsphrf\n"
     ]
    },
    {
     "name": "stderr",
     "output_type": "stream",
     "text": [
      "Joining, by = \"label\"\n",
      "Joining, by = c(\"sex\", \"begin\", \"end\")\n"
     ]
    },
    {
     "name": "stdout",
     "output_type": "stream",
     "text": [
      "Independent Sampling design (with replacement)\n",
      "Called via srvyr\n",
      "Sampling variables:\n",
      " - ids: pid\n",
      " - weights: tsphrf\n",
      "Independent Sampling design (with replacement)\n",
      "Called via srvyr\n",
      "Sampling variables:\n",
      " - ids: pid\n",
      " - weights: tsphrf\n"
     ]
    },
    {
     "name": "stderr",
     "output_type": "stream",
     "text": [
      "Joining, by = \"label\"\n",
      "Joining, by = c(\"sex\", \"begin\", \"end\")\n"
     ]
    },
    {
     "name": "stdout",
     "output_type": "stream",
     "text": [
      "Independent Sampling design (with replacement)\n",
      "Called via srvyr\n",
      "Sampling variables:\n",
      " - ids: pid\n",
      " - weights: tsphrf\n",
      "Independent Sampling design (with replacement)\n",
      "Called via srvyr\n",
      "Sampling variables:\n",
      " - ids: pid\n",
      " - weights: tsphrf\n"
     ]
    },
    {
     "name": "stderr",
     "output_type": "stream",
     "text": [
      "Joining, by = \"label\"\n",
      "Joining, by = c(\"sex\", \"begin\", \"end\")\n"
     ]
    },
    {
     "name": "stdout",
     "output_type": "stream",
     "text": [
      "Independent Sampling design (with replacement)\n",
      "Called via srvyr\n",
      "Sampling variables:\n",
      " - ids: pid\n",
      " - weights: tsphrf\n",
      "Independent Sampling design (with replacement)\n",
      "Called via srvyr\n",
      "Sampling variables:\n",
      " - ids: pid\n",
      " - weights: tsphrf\n"
     ]
    },
    {
     "name": "stderr",
     "output_type": "stream",
     "text": [
      "Joining, by = \"label\"\n",
      "Joining, by = c(\"sex\", \"begin\", \"end\")\n"
     ]
    },
    {
     "name": "stdout",
     "output_type": "stream",
     "text": [
      "Independent Sampling design (with replacement)\n",
      "Called via srvyr\n",
      "Sampling variables:\n",
      " - ids: pid\n",
      " - weights: tsphrf\n",
      "Independent Sampling design (with replacement)\n",
      "Called via srvyr\n",
      "Sampling variables:\n",
      " - ids: pid\n",
      " - weights: tsphrf\n"
     ]
    },
    {
     "name": "stderr",
     "output_type": "stream",
     "text": [
      "Joining, by = \"label\"\n",
      "Joining, by = c(\"sex\", \"begin\", \"end\")\n"
     ]
    },
    {
     "name": "stdout",
     "output_type": "stream",
     "text": [
      "Independent Sampling design (with replacement)\n",
      "Called via srvyr\n",
      "Sampling variables:\n",
      " - ids: pid\n",
      " - weights: tsphrf\n",
      "Independent Sampling design (with replacement)\n",
      "Called via srvyr\n",
      "Sampling variables:\n",
      " - ids: pid\n",
      " - weights: tsphrf\n"
     ]
    },
    {
     "name": "stderr",
     "output_type": "stream",
     "text": [
      "Joining, by = \"label\"\n",
      "Joining, by = c(\"sex\", \"begin\", \"end\")\n",
      "Adding missing grouping variables: `begin`, `label`\n",
      "Joining, by = c(\"sex\", \"begin\", \"label\", \"age\")\n",
      "Adding missing grouping variables: `begin`, `label`\n",
      "Joining, by = c(\"sex\", \"begin\", \"label\", \"age\")\n",
      "Adding missing grouping variables: `begin`, `label`\n",
      "Joining, by = c(\"sex\", \"begin\", \"label\", \"age\")\n",
      "Adding missing grouping variables: `begin`, `label`\n",
      "Joining, by = c(\"sex\", \"begin\", \"label\", \"age\")\n",
      "Adding missing grouping variables: `begin`, `label`\n",
      "Joining, by = c(\"sex\", \"begin\", \"label\", \"age\")\n",
      "Adding missing grouping variables: `begin`, `label`\n",
      "Joining, by = c(\"sex\", \"begin\", \"label\", \"age\")\n",
      "Adding missing grouping variables: `begin`, `label`\n",
      "Joining, by = c(\"sex\", \"begin\", \"label\", \"age\")\n",
      "Adding missing grouping variables: `begin`, `label`\n",
      "Joining, by = c(\"sex\", \"begin\", \"label\", \"age\")\n"
     ]
    },
    {
     "name": "stdout",
     "output_type": "stream",
     "text": [
      "Independent Sampling design (with replacement)\n",
      "Called via srvyr\n",
      "Sampling variables:\n",
      " - ids: pid\n",
      " - weights: tsphrf\n",
      "Independent Sampling design (with replacement)\n",
      "Called via srvyr\n",
      "Sampling variables:\n",
      " - ids: pid\n",
      " - weights: tsphrf\n"
     ]
    },
    {
     "name": "stderr",
     "output_type": "stream",
     "text": [
      "Joining, by = \"label\"\n",
      "Joining, by = c(\"sex\", \"begin\", \"end\")\n"
     ]
    },
    {
     "name": "stdout",
     "output_type": "stream",
     "text": [
      "Independent Sampling design (with replacement)\n",
      "Called via srvyr\n",
      "Sampling variables:\n",
      " - ids: pid\n",
      " - weights: tsphrf\n",
      "Independent Sampling design (with replacement)\n",
      "Called via srvyr\n",
      "Sampling variables:\n",
      " - ids: pid\n",
      " - weights: tsphrf\n"
     ]
    },
    {
     "name": "stderr",
     "output_type": "stream",
     "text": [
      "Joining, by = \"label\"\n",
      "Joining, by = c(\"sex\", \"begin\", \"end\")\n"
     ]
    },
    {
     "name": "stdout",
     "output_type": "stream",
     "text": [
      "Independent Sampling design (with replacement)\n",
      "Called via srvyr\n",
      "Sampling variables:\n",
      " - ids: pid\n",
      " - weights: tsphrf\n",
      "Independent Sampling design (with replacement)\n",
      "Called via srvyr\n",
      "Sampling variables:\n",
      " - ids: pid\n",
      " - weights: tsphrf\n"
     ]
    },
    {
     "name": "stderr",
     "output_type": "stream",
     "text": [
      "Joining, by = \"label\"\n",
      "Joining, by = c(\"sex\", \"begin\", \"end\")\n"
     ]
    },
    {
     "name": "stdout",
     "output_type": "stream",
     "text": [
      "Independent Sampling design (with replacement)\n",
      "Called via srvyr\n",
      "Sampling variables:\n",
      " - ids: pid\n",
      " - weights: tsphrf\n",
      "Independent Sampling design (with replacement)\n",
      "Called via srvyr\n",
      "Sampling variables:\n",
      " - ids: pid\n",
      " - weights: tsphrf\n"
     ]
    },
    {
     "name": "stderr",
     "output_type": "stream",
     "text": [
      "Joining, by = \"label\"\n",
      "Joining, by = c(\"sex\", \"begin\", \"end\")\n",
      "Adding missing grouping variables: `begin`, `label`\n",
      "Joining, by = c(\"sex\", \"begin\", \"label\", \"age\")\n",
      "Adding missing grouping variables: `begin`, `label`\n",
      "Joining, by = c(\"sex\", \"begin\", \"label\", \"age\")\n",
      "Adding missing grouping variables: `begin`, `label`\n",
      "Joining, by = c(\"sex\", \"begin\", \"label\", \"age\")\n",
      "Adding missing grouping variables: `begin`, `label`\n",
      "Joining, by = c(\"sex\", \"begin\", \"label\", \"age\")\n",
      "Adding missing grouping variables: `begin`, `label`\n",
      "Joining, by = c(\"sex\", \"begin\", \"label\", \"age\")\n",
      "Adding missing grouping variables: `begin`, `label`\n",
      "Joining, by = c(\"sex\", \"begin\", \"label\", \"age\")\n",
      "Adding missing grouping variables: `begin`, `label`\n",
      "Joining, by = c(\"sex\", \"begin\", \"label\", \"age\")\n",
      "Adding missing grouping variables: `begin`, `label`\n",
      "Joining, by = c(\"sex\", \"begin\", \"label\", \"age\")\n"
     ]
    }
   ],
   "source": [
    "# Log to File\n",
    "\n",
    "# Model for all Angroups\n",
    "#######################\n",
    "registerDoMC(2)\n",
    "anresult <- foreach(i=1:nrow(angroups)) %do% { # nrow(angroups)\n",
    "    myresult <- survival_soep(data=andata,groupdefs=angroups[i,],determinant=\"incpos\",controls=c(\"age\"),byvars=\"sex\") %>%\n",
    "    merge_lifetable(.,angroups[i,])\n",
    "    myresult\n",
    "    }\n",
    "\n",
    "# Store Result\n",
    "anresult <- plyr::rbind.fill(anresult) %>% \n",
    "         filter(stringr::str_detect(term,\"incpos\")) %>% mutate(label = ordered(label,levels=levels(andata$incpos))) \n",
    "\n",
    "# Predict Lifeexpectancy\n",
    "anresult.le <-   anresult %>% group_by(sex, begin, label) %>% arrange(sex, begin, label , age) %>%  predict_lifexp(.) \n",
    "\n",
    "# Overall Result \n",
    "#######################\n",
    "overallresult <-  foreach(i=1:nrow(angroups_all)) %do% { \n",
    "    myresult <- survival_soep(data=andata,groupdefs=angroups_all[i,],determinant=\"incpos\",controls=c(\"age\"),byvars=\"sex\") %>%\n",
    "    merge_lifetable(.,angroups_all[i,])\n",
    "    myresult\n",
    "    }\n",
    "registerDoMC(1) # Register 1 Core to reduce System load\n",
    "\n",
    "# Store Result\n",
    "overallresult <- plyr::rbind.fill(overallresult) %>% \n",
    "         filter(stringr::str_detect(term,\"incpos\")) %>% mutate(label = ordered(label,levels=levels(andata$incpos))) \n",
    "\n",
    "# Predict Lifeexpectancy\n",
    "overallresult.le <- overallresult %>% group_by(sex, begin, label) %>% arrange(sex, begin, label , age) %>%  predict_lifexp(.)\n"
   ]
  },
  {
   "cell_type": "markdown",
   "metadata": {},
   "source": [
    "### Overall Results for the whole observational period"
   ]
  },
  {
   "cell_type": "markdown",
   "metadata": {},
   "source": [
    "Here we will compute the results for the whole observational period and export them to an excel file. We will show differences in Life Expectancy by income as well  plots by income for:\n",
    "- Hazard Ratios\n",
    "- Survival Rates\n",
    "- Life Expectancy at birth\n",
    "- Mortality risks until age of 65\n",
    "- Remaining Life Expectancy at 65"
   ]
  },
  {
   "cell_type": "code",
   "execution_count": 12,
   "metadata": {},
   "outputs": [
    {
     "data": {
      "text/html": [
       "<table>\n",
       "<thead><tr><th scope=col>sex</th><th scope=col>begin</th><th scope=col>end</th><th scope=col>Diff_label</th><th scope=col>Diff</th><th scope=col>Diff_min</th><th scope=col>Diff_max</th><th scope=col>Outcome</th></tr></thead>\n",
       "<tbody>\n",
       "\t<tr><td>M                    </td><td>1992                 </td><td>2016                 </td><td>&lt;60% vs. 150% u.m.</td><td>8.6                  </td><td>5.0                  </td><td>12.4                 </td><td>LE at birth          </td></tr>\n",
       "\t<tr><td>W                    </td><td>1992                 </td><td>2016                 </td><td>&lt;60% vs. 150% u.m.</td><td>4.4                  </td><td>1.2                  </td><td> 7.8                 </td><td>LE at birth          </td></tr>\n",
       "\t<tr><td>M                    </td><td>1992                 </td><td>2016                 </td><td>&lt;60% vs. 150% u.m.</td><td>6.6                  </td><td>4.1                  </td><td> 9.0                 </td><td>LE at 65 yrs         </td></tr>\n",
       "\t<tr><td>W                    </td><td>1992                 </td><td>2016                 </td><td>&lt;60% vs. 150% u.m.</td><td>3.7                  </td><td>1.2                  </td><td> 6.2                 </td><td>LE at 65 yrs         </td></tr>\n",
       "</tbody>\n",
       "</table>\n"
      ],
      "text/latex": [
       "\\begin{tabular}{r|llllllll}\n",
       " sex & begin & end & Diff\\_label & Diff & Diff\\_min & Diff\\_max & Outcome\\\\\n",
       "\\hline\n",
       "\t M                      & 1992                   & 2016                   & <60\\% vs. 150\\% u.m. & 8.6                    & 5.0                    & 12.4                   & LE at birth           \\\\\n",
       "\t W                      & 1992                   & 2016                   & <60\\% vs. 150\\% u.m. & 4.4                    & 1.2                    &  7.8                   & LE at birth           \\\\\n",
       "\t M                      & 1992                   & 2016                   & <60\\% vs. 150\\% u.m. & 6.6                    & 4.1                    &  9.0                   & LE at 65 yrs          \\\\\n",
       "\t W                      & 1992                   & 2016                   & <60\\% vs. 150\\% u.m. & 3.7                    & 1.2                    &  6.2                   & LE at 65 yrs          \\\\\n",
       "\\end{tabular}\n"
      ],
      "text/markdown": [
       "\n",
       "sex | begin | end | Diff_label | Diff | Diff_min | Diff_max | Outcome | \n",
       "|---|---|---|---|\n",
       "| M                  | 1992               | 2016               | <60% vs. 150% u.m. | 8.6                | 5.0                | 12.4               | LE at birth        | \n",
       "| W                  | 1992               | 2016               | <60% vs. 150% u.m. | 4.4                | 1.2                |  7.8               | LE at birth        | \n",
       "| M                  | 1992               | 2016               | <60% vs. 150% u.m. | 6.6                | 4.1                |  9.0               | LE at 65 yrs       | \n",
       "| W                  | 1992               | 2016               | <60% vs. 150% u.m. | 3.7                | 1.2                |  6.2               | LE at 65 yrs       | \n",
       "\n",
       "\n"
      ],
      "text/plain": [
       "  sex begin end  Diff_label         Diff Diff_min Diff_max Outcome     \n",
       "1 M   1992  2016 <60% vs. 150% u.m. 8.6  5.0      12.4     LE at birth \n",
       "2 W   1992  2016 <60% vs. 150% u.m. 4.4  1.2       7.8     LE at birth \n",
       "3 M   1992  2016 <60% vs. 150% u.m. 6.6  4.1       9.0     LE at 65 yrs\n",
       "4 W   1992  2016 <60% vs. 150% u.m. 3.7  1.2       6.2     LE at 65 yrs"
      ]
     },
     "metadata": {},
     "output_type": "display_data"
    },
    {
     "data": {},
     "metadata": {},
     "output_type": "display_data"
    },
    {
     "data": {},
     "metadata": {},
     "output_type": "display_data"
    },
    {
     "data": {
      "image/png": "[encoded data removed]",
      "text/plain": [
       "plot without title"
      ]
     },
     "metadata": {},
     "output_type": "display_data",
     "source": "R display func"
    },
    {
     "data": {},
     "metadata": {},
     "output_type": "display_data"
    },
    {
     "data": {
      "image/png": "[encoded data removed]",
      "text/plain": [
       "plot without title"
      ]
     },
     "metadata": {},
     "output_type": "display_data",
     "source": "R display func"
    },
    {
     "data": {},
     "metadata": {},
     "output_type": "display_data"
    },
    {
     "data": {
      "image/png": "[encoded data removed]",
      "text/plain": [
       "plot without title"
      ]
     },
     "metadata": {},
     "output_type": "display_data",
     "source": "R display func"
    },
    {
     "data": {},
     "metadata": {},
     "output_type": "display_data"
    },
    {
     "data": {
      "image/png": "[encoded data removed]",
      "text/plain": [
       "plot without title"
      ]
     },
     "metadata": {},
     "output_type": "display_data",
     "source": "R display func"
    },
    {
     "data": {
      "image/png": "[encoded data removed]",
      "text/plain": [
       "plot without title"
      ]
     },
     "metadata": {},
     "output_type": "display_data",
     "source": "R display func"
    }
   ],
   "source": [
    "myresult <- bind_rows(overallresult.le  %>% show_lediff(.,agefilter=0) %>% mutate(Outcome=\"LE at birth\") ,\n",
    "          overallresult.le  %>% show_lediff(.,agefilter=65)%>% mutate(Outcome=\"LE at 65 yrs\") )\n",
    "wb <- loadWorkbook(\"Results_Mortality.xlsx\")\n",
    "addWorksheet(wb, \"Overall\")\n",
    "writeDataTable(wb, \"Overall\", myresult)\n",
    "addWorksheet(wb, \"Overall (Raw)\")\n",
    "writeDataTable(wb, \"Overall (Raw)\", overallresult.le)\n",
    "myresult\n",
    "\n",
    "# Plot LE at birth\n",
    "le_plot_all <- overallresult.le %>% filter(age==0) %>% \n",
    "select(begin,end,sex,label,contains(\"LE_\")) %>% ungroup() %>%\n",
    "mutate(sex=ifelse(sex==\"M\",\"Men\",\"Women\"),\n",
    "       sex=ordered(sex,levels=c(\"Men\",\"Women\"))) %>%  \n",
    "       ggplot(.,aes(x=label,y=LE_mean, label=round(LE_mean, digits=1), fill=label)) +  facet_grid(.~sex) + theme_rki(base_size=8) + scale_fill_rki(reverse=F) +\n",
    "labs(x=\"\",y=\"Life Expectancy at birth\", fill=\"Income\")   + geom_bar(stat=\"identity\") + coord_cartesian(ylim=c(65,85)) +\n",
    "geom_text(aes(y=LE_mean+1), size=2.2) + guides(fill=FALSE)\n",
    "le_plot_all\n",
    "insertPlot(wb, \"Overall\", width = 7.11, height = 4, startRow = 1,  startCol = length(myresult)+5 , fileType = \"png\", units = \"in\", dpi = 400)\n",
    "\n",
    "# Plot LE at 65\n",
    "le65_plot_all <- overallresult.le %>% filter(age==65) %>% \n",
    "select(begin,end,sex,label,contains(\"LE_\")) %>% ungroup() %>%\n",
    "mutate(sex=ifelse(sex==\"M\",\"Men\",\"Women\"),\n",
    "       sex=ordered(sex,levels=c(\"Men\",\"Women\"))) %>%  \n",
    "       ggplot(.,aes(x=label,y=LE_mean, label=round(LE_mean, digits=1), fill=label)) +  facet_grid(.~sex) + theme_rki(base_size=8) + scale_fill_rki(reverse=F) +\n",
    "labs(x=\"\",y=\"Life Expectancy at 65\", fill=\"Income\")   + geom_bar(stat=\"identity\") + coord_cartesian(ylim=c(0,20)) +\n",
    "geom_text(aes(y=LE_mean+1), size=2.2) + guides(fill=FALSE)\n",
    "le65_plot_all\n",
    "insertPlot(wb, \"Overall\", width = 7.11, height = 4, startRow = 22,  startCol = length(myresult)+5 , fileType = \"png\", units = \"in\", dpi = 400)\n",
    "\n",
    "\n",
    "# Rates at 65\n",
    "surv65_plot_all <- overallresult.le %>% filter(age==65) %>% \n",
    "select(begin,end,sex,label,contains(\"Surv_\")) %>% ungroup() %>%\n",
    "mutate(Surv_mean=(1-Surv_mean)*100,\n",
    "       sex=ifelse(sex==\"M\",\"Men\",\"Women\"),\n",
    "       sex=ordered(sex,levels=c(\"Men\",\"Women\"))) %>%\n",
    "       ggplot(.,aes(x=label,y=Surv_mean, label=round(Surv_mean, digits=1), fill=label)) +  facet_grid(.~sex) + theme_rki(base_size=8) + scale_fill_rki(reverse=F) +\n",
    "labs(x=\"\",y=\"Mortality Rate before age of 65\", fill=\"Income\")   + geom_bar(stat=\"identity\")  + coord_cartesian(ylim=c(0,50)) +\n",
    "geom_text(aes(y=Surv_mean+1), size=2.2) + guides(fill=FALSE)\n",
    "surv65_plot_all\n",
    "insertPlot(wb, \"Overall\", width = 7.11, height = 4, startRow = 7,  startCol = 1 , fileType = \"png\", units = \"in\", dpi = 400)\n",
    "\n",
    "# Survival Rates\n",
    "surv_rate_plot_all <- overallresult.le %>%  \n",
    "select(begin,end,sex,age,label,contains(\"Surv_\")) %>% ungroup() %>%\n",
    "mutate(sex=ifelse(sex==\"M\",\"Men\",\"Women\"),\n",
    "       sex=ordered(sex,levels=c(\"Men\",\"Women\"))) %>%  \n",
    "       ggplot(.,aes(x=age,y=Surv_mean, label=round(Surv_mean, digits=1), color=label)) +  facet_grid(.~sex) + theme_rki(base_size=8) + scale_color_rki(reverse=F) +\n",
    "labs(x=\"\",y=\"Survival Rates\", color=\"Income\")  +\n",
    "geom_line() + theme(legend.position=\"bottom\")\n",
    "surv_rate_plot_all\n",
    "insertPlot(wb, \"Overall\", width = 7.11, height = 4, startRow = 27,  startCol = 1  , fileType = \"png\", units = \"in\", dpi = 400)\n",
    "\n",
    "# Effects\n",
    "effect_plot <- overallresult.le %>% select(sex,begin,end,label,youngest,oldest,estimate,contains(\"conf.\")) %>% \n",
    "group_by(sex,begin,end,label,estimate,conf.low,conf.high) %>% filter(row_number()==1) %>% ungroup() %>%\n",
    "mutate(Range=ifelse(oldest<max(oldest),paste0(\"Age: \",youngest,\"-\",oldest),paste0(\"Age: \",youngest,\"+\")),\n",
    "      sex=ifelse(sex==\"M\",\"Men\",\"Women\")) %>%\n",
    "ggplot(., aes(x=label,label=round(estimate,digits=1),y=estimate,ymin=conf.low,ymax=conf.high, color=label)) + geom_point() + geom_linerange()  +  facet_grid(Range~sex) +\n",
    " theme_rki(base_size=8) + scale_color_rki(reverse=F) + \n",
    "scale_y_log10(breaks=c(.5,1,2),labels=c(\".5\",\"Ref.\",\"2\"),limits=c(.4,3)) + theme(legend.position=\"bottom\") + geom_text(color=\"black\",size=2,hjust=-.5) +\n",
    "labs(y=\"Hazard Ratio (Ref. Grand Mean)\", x=\"Income Position\") + guides(color=FALSE)\n",
    "effect_plot\n",
    "insertPlot(wb, \"Overall\", width = 7.11, height = 4, startRow = 42,   startCol = length(myresult)+5  , fileType = \"png\", units = \"in\", dpi = 400)\n",
    "saveWorkbook(wb, \"Results_Mortality.xlsx\" , overwrite=TRUE)"
   ]
  },
  {
   "cell_type": "markdown",
   "metadata": {},
   "source": [
    "### Results split by Timeframes four years"
   ]
  },
  {
   "cell_type": "markdown",
   "metadata": {},
   "source": [
    "Here we will replicate the results presented above differenciated by Time Frames of 4 years."
   ]
  },
  {
   "cell_type": "code",
   "execution_count": 13,
   "metadata": {},
   "outputs": [
    {
     "data": {
      "text/html": [
       "<table>\n",
       "<thead><tr><th scope=col>sex</th><th scope=col>begin</th><th scope=col>end</th><th scope=col>Diff_label</th><th scope=col>Diff</th><th scope=col>Diff_min</th><th scope=col>Diff_max</th><th scope=col>Outcome</th></tr></thead>\n",
       "<tbody>\n",
       "\t<tr><td>M                    </td><td>1992                 </td><td>1995                 </td><td>&lt;60% vs. 150% u.m.</td><td> 9.2                 </td><td> 4.3                 </td><td>14.3                 </td><td>LE at birth          </td></tr>\n",
       "\t<tr><td>M                    </td><td>1996                 </td><td>1999                 </td><td>&lt;60% vs. 150% u.m.</td><td>10.5                 </td><td> 4.3                 </td><td>17.1                 </td><td>LE at birth          </td></tr>\n",
       "\t<tr><td>M                    </td><td>2000                 </td><td>2003                 </td><td>&lt;60% vs. 150% u.m.</td><td> 6.4                 </td><td> 0.7                 </td><td>12.1                 </td><td>LE at birth          </td></tr>\n",
       "\t<tr><td>M                    </td><td>2004                 </td><td>2007                 </td><td>&lt;60% vs. 150% u.m.</td><td>11.2                 </td><td> 4.5                 </td><td>18.2                 </td><td>LE at birth          </td></tr>\n",
       "\t<tr><td>M                    </td><td>2008                 </td><td>2011                 </td><td>&lt;60% vs. 150% u.m.</td><td> 9.0                 </td><td> 0.6                 </td><td>18.3                 </td><td>LE at birth          </td></tr>\n",
       "\t<tr><td>M                    </td><td>2012                 </td><td>2015                 </td><td>&lt;60% vs. 150% u.m.</td><td>11.9                 </td><td> 1.2                 </td><td>20.3                 </td><td>LE at birth          </td></tr>\n",
       "\t<tr><td>W                    </td><td>1992                 </td><td>1995                 </td><td>&lt;60% vs. 150% u.m.</td><td> 4.6                 </td><td> 0.2                 </td><td> 9.2                 </td><td>LE at birth          </td></tr>\n",
       "\t<tr><td>W                    </td><td>1996                 </td><td>1999                 </td><td>&lt;60% vs. 150% u.m.</td><td> 3.3                 </td><td>-1.5                 </td><td> 8.3                 </td><td>LE at birth          </td></tr>\n",
       "\t<tr><td>W                    </td><td>2000                 </td><td>2003                 </td><td>&lt;60% vs. 150% u.m.</td><td> 4.8                 </td><td> 0.4                 </td><td> 9.3                 </td><td>LE at birth          </td></tr>\n",
       "\t<tr><td>W                    </td><td>2004                 </td><td>2007                 </td><td>&lt;60% vs. 150% u.m.</td><td> 4.5                 </td><td>-1.7                 </td><td>11.1                 </td><td>LE at birth          </td></tr>\n",
       "\t<tr><td>W                    </td><td>2008                 </td><td>2011                 </td><td>&lt;60% vs. 150% u.m.</td><td> 4.5                 </td><td>-2.6                 </td><td>11.6                 </td><td>LE at birth          </td></tr>\n",
       "\t<tr><td>W                    </td><td>2012                 </td><td>2015                 </td><td>&lt;60% vs. 150% u.m.</td><td> 7.1                 </td><td>-3.8                 </td><td>16.9                 </td><td>LE at birth          </td></tr>\n",
       "\t<tr><td>M                    </td><td>1992                 </td><td>1995                 </td><td>&lt;60% vs. 150% u.m.</td><td> 6.8                 </td><td> 3.6                 </td><td> 9.8                 </td><td>LE at 65 yrs         </td></tr>\n",
       "\t<tr><td>M                    </td><td>1996                 </td><td>1999                 </td><td>&lt;60% vs. 150% u.m.</td><td> 7.8                 </td><td> 3.6                 </td><td>12.0                 </td><td>LE at 65 yrs         </td></tr>\n",
       "\t<tr><td>M                    </td><td>2000                 </td><td>2003                 </td><td>&lt;60% vs. 150% u.m.</td><td> 4.4                 </td><td> 0.7                 </td><td> 7.9                 </td><td>LE at 65 yrs         </td></tr>\n",
       "\t<tr><td>M                    </td><td>2004                 </td><td>2007                 </td><td>&lt;60% vs. 150% u.m.</td><td> 7.7                 </td><td> 3.5                 </td><td>11.9                 </td><td>LE at 65 yrs         </td></tr>\n",
       "\t<tr><td>M                    </td><td>2008                 </td><td>2011                 </td><td>&lt;60% vs. 150% u.m.</td><td> 7.5                 </td><td> 1.8                 </td><td>13.2                 </td><td>LE at 65 yrs         </td></tr>\n",
       "\t<tr><td>M                    </td><td>2012                 </td><td>2015                 </td><td>&lt;60% vs. 150% u.m.</td><td>10.7                 </td><td> 3.7                 </td><td>16.4                 </td><td>LE at 65 yrs         </td></tr>\n",
       "\t<tr><td>W                    </td><td>1992                 </td><td>1995                 </td><td>&lt;60% vs. 150% u.m.</td><td> 3.5                 </td><td> 0.2                 </td><td> 6.8                 </td><td>LE at 65 yrs         </td></tr>\n",
       "\t<tr><td>W                    </td><td>1996                 </td><td>1999                 </td><td>&lt;60% vs. 150% u.m.</td><td> 2.2                 </td><td>-1.4                 </td><td> 6.0                 </td><td>LE at 65 yrs         </td></tr>\n",
       "\t<tr><td>W                    </td><td>2000                 </td><td>2003                 </td><td>&lt;60% vs. 150% u.m.</td><td> 4.0                 </td><td> 0.6                 </td><td> 7.3                 </td><td>LE at 65 yrs         </td></tr>\n",
       "\t<tr><td>W                    </td><td>2004                 </td><td>2007                 </td><td>&lt;60% vs. 150% u.m.</td><td> 3.8                 </td><td>-0.5                 </td><td> 8.2                 </td><td>LE at 65 yrs         </td></tr>\n",
       "\t<tr><td>W                    </td><td>2008                 </td><td>2011                 </td><td>&lt;60% vs. 150% u.m.</td><td> 3.7                 </td><td>-1.6                 </td><td> 8.9                 </td><td>LE at 65 yrs         </td></tr>\n",
       "\t<tr><td>W                    </td><td>2012                 </td><td>2015                 </td><td>&lt;60% vs. 150% u.m.</td><td> 6.5                 </td><td>-1.4                 </td><td>13.8                 </td><td>LE at 65 yrs         </td></tr>\n",
       "</tbody>\n",
       "</table>\n"
      ],
      "text/latex": [
       "\\begin{tabular}{r|llllllll}\n",
       " sex & begin & end & Diff\\_label & Diff & Diff\\_min & Diff\\_max & Outcome\\\\\n",
       "\\hline\n",
       "\t M                      & 1992                   & 1995                   & <60\\% vs. 150\\% u.m. &  9.2                   &  4.3                   & 14.3                   & LE at birth           \\\\\n",
       "\t M                      & 1996                   & 1999                   & <60\\% vs. 150\\% u.m. & 10.5                   &  4.3                   & 17.1                   & LE at birth           \\\\\n",
       "\t M                      & 2000                   & 2003                   & <60\\% vs. 150\\% u.m. &  6.4                   &  0.7                   & 12.1                   & LE at birth           \\\\\n",
       "\t M                      & 2004                   & 2007                   & <60\\% vs. 150\\% u.m. & 11.2                   &  4.5                   & 18.2                   & LE at birth           \\\\\n",
       "\t M                      & 2008                   & 2011                   & <60\\% vs. 150\\% u.m. &  9.0                   &  0.6                   & 18.3                   & LE at birth           \\\\\n",
       "\t M                      & 2012                   & 2015                   & <60\\% vs. 150\\% u.m. & 11.9                   &  1.2                   & 20.3                   & LE at birth           \\\\\n",
       "\t W                      & 1992                   & 1995                   & <60\\% vs. 150\\% u.m. &  4.6                   &  0.2                   &  9.2                   & LE at birth           \\\\\n",
       "\t W                      & 1996                   & 1999                   & <60\\% vs. 150\\% u.m. &  3.3                   & -1.5                   &  8.3                   & LE at birth           \\\\\n",
       "\t W                      & 2000                   & 2003                   & <60\\% vs. 150\\% u.m. &  4.8                   &  0.4                   &  9.3                   & LE at birth           \\\\\n",
       "\t W                      & 2004                   & 2007                   & <60\\% vs. 150\\% u.m. &  4.5                   & -1.7                   & 11.1                   & LE at birth           \\\\\n",
       "\t W                      & 2008                   & 2011                   & <60\\% vs. 150\\% u.m. &  4.5                   & -2.6                   & 11.6                   & LE at birth           \\\\\n",
       "\t W                      & 2012                   & 2015                   & <60\\% vs. 150\\% u.m. &  7.1                   & -3.8                   & 16.9                   & LE at birth           \\\\\n",
       "\t M                      & 1992                   & 1995                   & <60\\% vs. 150\\% u.m. &  6.8                   &  3.6                   &  9.8                   & LE at 65 yrs          \\\\\n",
       "\t M                      & 1996                   & 1999                   & <60\\% vs. 150\\% u.m. &  7.8                   &  3.6                   & 12.0                   & LE at 65 yrs          \\\\\n",
       "\t M                      & 2000                   & 2003                   & <60\\% vs. 150\\% u.m. &  4.4                   &  0.7                   &  7.9                   & LE at 65 yrs          \\\\\n",
       "\t M                      & 2004                   & 2007                   & <60\\% vs. 150\\% u.m. &  7.7                   &  3.5                   & 11.9                   & LE at 65 yrs          \\\\\n",
       "\t M                      & 2008                   & 2011                   & <60\\% vs. 150\\% u.m. &  7.5                   &  1.8                   & 13.2                   & LE at 65 yrs          \\\\\n",
       "\t M                      & 2012                   & 2015                   & <60\\% vs. 150\\% u.m. & 10.7                   &  3.7                   & 16.4                   & LE at 65 yrs          \\\\\n",
       "\t W                      & 1992                   & 1995                   & <60\\% vs. 150\\% u.m. &  3.5                   &  0.2                   &  6.8                   & LE at 65 yrs          \\\\\n",
       "\t W                      & 1996                   & 1999                   & <60\\% vs. 150\\% u.m. &  2.2                   & -1.4                   &  6.0                   & LE at 65 yrs          \\\\\n",
       "\t W                      & 2000                   & 2003                   & <60\\% vs. 150\\% u.m. &  4.0                   &  0.6                   &  7.3                   & LE at 65 yrs          \\\\\n",
       "\t W                      & 2004                   & 2007                   & <60\\% vs. 150\\% u.m. &  3.8                   & -0.5                   &  8.2                   & LE at 65 yrs          \\\\\n",
       "\t W                      & 2008                   & 2011                   & <60\\% vs. 150\\% u.m. &  3.7                   & -1.6                   &  8.9                   & LE at 65 yrs          \\\\\n",
       "\t W                      & 2012                   & 2015                   & <60\\% vs. 150\\% u.m. &  6.5                   & -1.4                   & 13.8                   & LE at 65 yrs          \\\\\n",
       "\\end{tabular}\n"
      ],
      "text/markdown": [
       "\n",
       "sex | begin | end | Diff_label | Diff | Diff_min | Diff_max | Outcome | \n",
       "|---|---|---|---|---|---|---|---|---|---|---|---|---|---|---|---|---|---|---|---|---|---|---|---|\n",
       "| M                  | 1992               | 1995               | <60% vs. 150% u.m. |  9.2               |  4.3               | 14.3               | LE at birth        | \n",
       "| M                  | 1996               | 1999               | <60% vs. 150% u.m. | 10.5               |  4.3               | 17.1               | LE at birth        | \n",
       "| M                  | 2000               | 2003               | <60% vs. 150% u.m. |  6.4               |  0.7               | 12.1               | LE at birth        | \n",
       "| M                  | 2004               | 2007               | <60% vs. 150% u.m. | 11.2               |  4.5               | 18.2               | LE at birth        | \n",
       "| M                  | 2008               | 2011               | <60% vs. 150% u.m. |  9.0               |  0.6               | 18.3               | LE at birth        | \n",
       "| M                  | 2012               | 2015               | <60% vs. 150% u.m. | 11.9               |  1.2               | 20.3               | LE at birth        | \n",
       "| W                  | 1992               | 1995               | <60% vs. 150% u.m. |  4.6               |  0.2               |  9.2               | LE at birth        | \n",
       "| W                  | 1996               | 1999               | <60% vs. 150% u.m. |  3.3               | -1.5               |  8.3               | LE at birth        | \n",
       "| W                  | 2000               | 2003               | <60% vs. 150% u.m. |  4.8               |  0.4               |  9.3               | LE at birth        | \n",
       "| W                  | 2004               | 2007               | <60% vs. 150% u.m. |  4.5               | -1.7               | 11.1               | LE at birth        | \n",
       "| W                  | 2008               | 2011               | <60% vs. 150% u.m. |  4.5               | -2.6               | 11.6               | LE at birth        | \n",
       "| W                  | 2012               | 2015               | <60% vs. 150% u.m. |  7.1               | -3.8               | 16.9               | LE at birth        | \n",
       "| M                  | 1992               | 1995               | <60% vs. 150% u.m. |  6.8               |  3.6               |  9.8               | LE at 65 yrs       | \n",
       "| M                  | 1996               | 1999               | <60% vs. 150% u.m. |  7.8               |  3.6               | 12.0               | LE at 65 yrs       | \n",
       "| M                  | 2000               | 2003               | <60% vs. 150% u.m. |  4.4               |  0.7               |  7.9               | LE at 65 yrs       | \n",
       "| M                  | 2004               | 2007               | <60% vs. 150% u.m. |  7.7               |  3.5               | 11.9               | LE at 65 yrs       | \n",
       "| M                  | 2008               | 2011               | <60% vs. 150% u.m. |  7.5               |  1.8               | 13.2               | LE at 65 yrs       | \n",
       "| M                  | 2012               | 2015               | <60% vs. 150% u.m. | 10.7               |  3.7               | 16.4               | LE at 65 yrs       | \n",
       "| W                  | 1992               | 1995               | <60% vs. 150% u.m. |  3.5               |  0.2               |  6.8               | LE at 65 yrs       | \n",
       "| W                  | 1996               | 1999               | <60% vs. 150% u.m. |  2.2               | -1.4               |  6.0               | LE at 65 yrs       | \n",
       "| W                  | 2000               | 2003               | <60% vs. 150% u.m. |  4.0               |  0.6               |  7.3               | LE at 65 yrs       | \n",
       "| W                  | 2004               | 2007               | <60% vs. 150% u.m. |  3.8               | -0.5               |  8.2               | LE at 65 yrs       | \n",
       "| W                  | 2008               | 2011               | <60% vs. 150% u.m. |  3.7               | -1.6               |  8.9               | LE at 65 yrs       | \n",
       "| W                  | 2012               | 2015               | <60% vs. 150% u.m. |  6.5               | -1.4               | 13.8               | LE at 65 yrs       | \n",
       "\n",
       "\n"
      ],
      "text/plain": [
       "   sex begin end  Diff_label         Diff Diff_min Diff_max Outcome     \n",
       "1  M   1992  1995 <60% vs. 150% u.m.  9.2  4.3     14.3     LE at birth \n",
       "2  M   1996  1999 <60% vs. 150% u.m. 10.5  4.3     17.1     LE at birth \n",
       "3  M   2000  2003 <60% vs. 150% u.m.  6.4  0.7     12.1     LE at birth \n",
       "4  M   2004  2007 <60% vs. 150% u.m. 11.2  4.5     18.2     LE at birth \n",
       "5  M   2008  2011 <60% vs. 150% u.m.  9.0  0.6     18.3     LE at birth \n",
       "6  M   2012  2015 <60% vs. 150% u.m. 11.9  1.2     20.3     LE at birth \n",
       "7  W   1992  1995 <60% vs. 150% u.m.  4.6  0.2      9.2     LE at birth \n",
       "8  W   1996  1999 <60% vs. 150% u.m.  3.3 -1.5      8.3     LE at birth \n",
       "9  W   2000  2003 <60% vs. 150% u.m.  4.8  0.4      9.3     LE at birth \n",
       "10 W   2004  2007 <60% vs. 150% u.m.  4.5 -1.7     11.1     LE at birth \n",
       "11 W   2008  2011 <60% vs. 150% u.m.  4.5 -2.6     11.6     LE at birth \n",
       "12 W   2012  2015 <60% vs. 150% u.m.  7.1 -3.8     16.9     LE at birth \n",
       "13 M   1992  1995 <60% vs. 150% u.m.  6.8  3.6      9.8     LE at 65 yrs\n",
       "14 M   1996  1999 <60% vs. 150% u.m.  7.8  3.6     12.0     LE at 65 yrs\n",
       "15 M   2000  2003 <60% vs. 150% u.m.  4.4  0.7      7.9     LE at 65 yrs\n",
       "16 M   2004  2007 <60% vs. 150% u.m.  7.7  3.5     11.9     LE at 65 yrs\n",
       "17 M   2008  2011 <60% vs. 150% u.m.  7.5  1.8     13.2     LE at 65 yrs\n",
       "18 M   2012  2015 <60% vs. 150% u.m. 10.7  3.7     16.4     LE at 65 yrs\n",
       "19 W   1992  1995 <60% vs. 150% u.m.  3.5  0.2      6.8     LE at 65 yrs\n",
       "20 W   1996  1999 <60% vs. 150% u.m.  2.2 -1.4      6.0     LE at 65 yrs\n",
       "21 W   2000  2003 <60% vs. 150% u.m.  4.0  0.6      7.3     LE at 65 yrs\n",
       "22 W   2004  2007 <60% vs. 150% u.m.  3.8 -0.5      8.2     LE at 65 yrs\n",
       "23 W   2008  2011 <60% vs. 150% u.m.  3.7 -1.6      8.9     LE at 65 yrs\n",
       "24 W   2012  2015 <60% vs. 150% u.m.  6.5 -1.4     13.8     LE at 65 yrs"
      ]
     },
     "metadata": {},
     "output_type": "display_data"
    }
   ],
   "source": [
    "myresult <- bind_rows(anresult.le  %>% show_lediff(.,agefilter=0) %>% mutate(Outcome=\"LE at birth\") ,\n",
    "          anresult.le  %>% show_lediff(.,agefilter=65)%>% mutate(Outcome=\"LE at 65 yrs\") )\n",
    "wb <- loadWorkbook(\"Results_Mortality.xlsx\")\n",
    "addWorksheet(wb, \"By Timeframe\")\n",
    "writeDataTable(wb, \"By Timeframe\", myresult)\n",
    "addWorksheet(wb, \"By Timeframe (Raw)\")\n",
    "writeDataTable(wb, \"By Timeframe (Raw)\", anresult.le)\n",
    "myresult\n",
    "saveWorkbook(wb, \"Results_Mortality.xlsx\" , overwrite=TRUE)"
   ]
  },
  {
   "cell_type": "markdown",
   "metadata": {},
   "source": [
    "#### Plots for Life Expectancy at birth"
   ]
  },
  {
   "cell_type": "code",
   "execution_count": 14,
   "metadata": {},
   "outputs": [
    {
     "name": "stderr",
     "output_type": "stream",
     "text": [
      "Joining, by = c(\"year\", \"sex\")\n"
     ]
    },
    {
     "data": {
      "text/html": [
       "<table>\n",
       "<thead><tr><th scope=col>year</th><th scope=col>sex</th><th scope=col>&lt;60%</th><th scope=col> 60%-79%</th><th scope=col> 80%-99%</th><th scope=col>100%-149%</th><th scope=col>150% u.m.</th><th scope=col>begin</th><th scope=col>end</th><th scope=col>Diff_label</th><th scope=col>Diff</th><th scope=col>Diff_min</th><th scope=col>Diff_max</th></tr></thead>\n",
       "<tbody>\n",
       "\t<tr><td>1994                                         </td><td><span style=white-space:pre-wrap>Men  </span></td><td>68.14727                                     </td><td>70.06378                                     </td><td>73.23286                                     </td><td>72.78859                                     </td><td>77.37307                                     </td><td>1992                                         </td><td>1995                                         </td><td>&lt;60% vs. 150% u.m.                        </td><td> 9.2                                         </td><td> 4.3                                         </td><td>14.3                                         </td></tr>\n",
       "\t<tr><td>1998                                         </td><td><span style=white-space:pre-wrap>Men  </span></td><td>69.37311                                     </td><td>71.87188                                     </td><td>72.12991                                     </td><td>74.36616                                     </td><td>79.90337                                     </td><td>1996                                         </td><td>1999                                         </td><td>&lt;60% vs. 150% u.m.                        </td><td>10.5                                         </td><td> 4.3                                         </td><td>17.1                                         </td></tr>\n",
       "\t<tr><td>2002                                         </td><td><span style=white-space:pre-wrap>Men  </span></td><td>71.57333                                     </td><td>73.40397                                     </td><td>73.75882                                     </td><td>76.63656                                     </td><td>77.97920                                     </td><td>2000                                         </td><td>2003                                         </td><td>&lt;60% vs. 150% u.m.                        </td><td> 6.4                                         </td><td> 0.7                                         </td><td>12.1                                         </td></tr>\n",
       "\t<tr><td>2006                                         </td><td><span style=white-space:pre-wrap>Men  </span></td><td>69.43489                                     </td><td>75.36592                                     </td><td>75.03893                                     </td><td>78.26047                                     </td><td>80.58622                                     </td><td>2004                                         </td><td>2007                                         </td><td>&lt;60% vs. 150% u.m.                        </td><td>11.2                                         </td><td> 4.5                                         </td><td>18.2                                         </td></tr>\n",
       "\t<tr><td>2010                                         </td><td><span style=white-space:pre-wrap>Men  </span></td><td>72.98021                                     </td><td>72.71821                                     </td><td>77.48447                                     </td><td>78.18115                                     </td><td>82.01307                                     </td><td>2008                                         </td><td>2011                                         </td><td>&lt;60% vs. 150% u.m.                        </td><td> 9.0                                         </td><td> 0.6                                         </td><td>18.3                                         </td></tr>\n",
       "\t<tr><td>2014                                         </td><td><span style=white-space:pre-wrap>Men  </span></td><td>72.35246                                     </td><td>75.46192                                     </td><td>75.87723                                     </td><td>78.73051                                     </td><td>84.24366                                     </td><td>2012                                         </td><td>2015                                         </td><td>&lt;60% vs. 150% u.m.                        </td><td>11.9                                         </td><td> 1.2                                         </td><td>20.3                                         </td></tr>\n",
       "\t<tr><td>1994                 </td><td>Women                </td><td>76.58993             </td><td>77.62359             </td><td>78.93736             </td><td>79.80738             </td><td>81.19369             </td><td>1992                 </td><td>1995                 </td><td>&lt;60% vs. 150% u.m.</td><td> 4.6                 </td><td> 0.2                 </td><td> 9.2                 </td></tr>\n",
       "\t<tr><td>1998                 </td><td>Women                </td><td>78.10629             </td><td>78.75766             </td><td>79.12140             </td><td>81.44502             </td><td>81.39897             </td><td>1996                 </td><td>1999                 </td><td>&lt;60% vs. 150% u.m.</td><td> 3.3                 </td><td>-1.5                 </td><td> 8.3                 </td></tr>\n",
       "\t<tr><td>2002                 </td><td>Women                </td><td>78.24117             </td><td>79.42081             </td><td>80.45627             </td><td>81.53351             </td><td>83.06447             </td><td>2000                 </td><td>2003                 </td><td>&lt;60% vs. 150% u.m.</td><td> 4.8                 </td><td> 0.4                 </td><td> 9.3                 </td></tr>\n",
       "\t<tr><td>2006                 </td><td>Women                </td><td>78.21777             </td><td>81.12637             </td><td>81.96006             </td><td>82.11380             </td><td>82.72687             </td><td>2004                 </td><td>2007                 </td><td>&lt;60% vs. 150% u.m.</td><td> 4.5                 </td><td>-1.7                 </td><td>11.1                 </td></tr>\n",
       "\t<tr><td>2010                 </td><td>Women                </td><td>78.78426             </td><td>77.92946             </td><td>85.12300             </td><td>82.67445             </td><td>83.23733             </td><td>2008                 </td><td>2011                 </td><td>&lt;60% vs. 150% u.m.</td><td> 4.5                 </td><td>-2.6                 </td><td>11.6                 </td></tr>\n",
       "\t<tr><td>2014                 </td><td>Women                </td><td>78.00240             </td><td>81.66405             </td><td>83.50616             </td><td>82.36370             </td><td>85.10524             </td><td>2012                 </td><td>2015                 </td><td>&lt;60% vs. 150% u.m.</td><td> 7.1                 </td><td>-3.8                 </td><td>16.9                 </td></tr>\n",
       "</tbody>\n",
       "</table>\n"
      ],
      "text/latex": [
       "\\begin{tabular}{r|lllllllllllll}\n",
       " year & sex & <60\\% &  60\\%-79\\% &  80\\%-99\\% & 100\\%-149\\% & 150\\% u.m. & begin & end & Diff\\_label & Diff & Diff\\_min & Diff\\_max\\\\\n",
       "\\hline\n",
       "\t 1994                   & Men                    & 68.14727               & 70.06378               & 73.23286               & 72.78859               & 77.37307               & 1992                   & 1995                   & <60\\% vs. 150\\% u.m. &  9.2                   &  4.3                   & 14.3                  \\\\\n",
       "\t 1998                   & Men                    & 69.37311               & 71.87188               & 72.12991               & 74.36616               & 79.90337               & 1996                   & 1999                   & <60\\% vs. 150\\% u.m. & 10.5                   &  4.3                   & 17.1                  \\\\\n",
       "\t 2002                   & Men                    & 71.57333               & 73.40397               & 73.75882               & 76.63656               & 77.97920               & 2000                   & 2003                   & <60\\% vs. 150\\% u.m. &  6.4                   &  0.7                   & 12.1                  \\\\\n",
       "\t 2006                   & Men                    & 69.43489               & 75.36592               & 75.03893               & 78.26047               & 80.58622               & 2004                   & 2007                   & <60\\% vs. 150\\% u.m. & 11.2                   &  4.5                   & 18.2                  \\\\\n",
       "\t 2010                   & Men                    & 72.98021               & 72.71821               & 77.48447               & 78.18115               & 82.01307               & 2008                   & 2011                   & <60\\% vs. 150\\% u.m. &  9.0                   &  0.6                   & 18.3                  \\\\\n",
       "\t 2014                   & Men                    & 72.35246               & 75.46192               & 75.87723               & 78.73051               & 84.24366               & 2012                   & 2015                   & <60\\% vs. 150\\% u.m. & 11.9                   &  1.2                   & 20.3                  \\\\\n",
       "\t 1994                   & Women                  & 76.58993               & 77.62359               & 78.93736               & 79.80738               & 81.19369               & 1992                   & 1995                   & <60\\% vs. 150\\% u.m. &  4.6                   &  0.2                   &  9.2                  \\\\\n",
       "\t 1998                   & Women                  & 78.10629               & 78.75766               & 79.12140               & 81.44502               & 81.39897               & 1996                   & 1999                   & <60\\% vs. 150\\% u.m. &  3.3                   & -1.5                   &  8.3                  \\\\\n",
       "\t 2002                   & Women                  & 78.24117               & 79.42081               & 80.45627               & 81.53351               & 83.06447               & 2000                   & 2003                   & <60\\% vs. 150\\% u.m. &  4.8                   &  0.4                   &  9.3                  \\\\\n",
       "\t 2006                   & Women                  & 78.21777               & 81.12637               & 81.96006               & 82.11380               & 82.72687               & 2004                   & 2007                   & <60\\% vs. 150\\% u.m. &  4.5                   & -1.7                   & 11.1                  \\\\\n",
       "\t 2010                   & Women                  & 78.78426               & 77.92946               & 85.12300               & 82.67445               & 83.23733               & 2008                   & 2011                   & <60\\% vs. 150\\% u.m. &  4.5                   & -2.6                   & 11.6                  \\\\\n",
       "\t 2014                   & Women                  & 78.00240               & 81.66405               & 83.50616               & 82.36370               & 85.10524               & 2012                   & 2015                   & <60\\% vs. 150\\% u.m. &  7.1                   & -3.8                   & 16.9                  \\\\\n",
       "\\end{tabular}\n"
      ],
      "text/markdown": [
       "\n",
       "year | sex | <60% |  60%-79% |  80%-99% | 100%-149% | 150% u.m. | begin | end | Diff_label | Diff | Diff_min | Diff_max | \n",
       "|---|---|---|---|---|---|---|---|---|---|---|---|\n",
       "| 1994               | Men                | 68.14727           | 70.06378           | 73.23286           | 72.78859           | 77.37307           | 1992               | 1995               | <60% vs. 150% u.m. |  9.2               |  4.3               | 14.3               | \n",
       "| 1998               | Men                | 69.37311           | 71.87188           | 72.12991           | 74.36616           | 79.90337           | 1996               | 1999               | <60% vs. 150% u.m. | 10.5               |  4.3               | 17.1               | \n",
       "| 2002               | Men                | 71.57333           | 73.40397           | 73.75882           | 76.63656           | 77.97920           | 2000               | 2003               | <60% vs. 150% u.m. |  6.4               |  0.7               | 12.1               | \n",
       "| 2006               | Men                | 69.43489           | 75.36592           | 75.03893           | 78.26047           | 80.58622           | 2004               | 2007               | <60% vs. 150% u.m. | 11.2               |  4.5               | 18.2               | \n",
       "| 2010               | Men                | 72.98021           | 72.71821           | 77.48447           | 78.18115           | 82.01307           | 2008               | 2011               | <60% vs. 150% u.m. |  9.0               |  0.6               | 18.3               | \n",
       "| 2014               | Men                | 72.35246           | 75.46192           | 75.87723           | 78.73051           | 84.24366           | 2012               | 2015               | <60% vs. 150% u.m. | 11.9               |  1.2               | 20.3               | \n",
       "| 1994               | Women              | 76.58993           | 77.62359           | 78.93736           | 79.80738           | 81.19369           | 1992               | 1995               | <60% vs. 150% u.m. |  4.6               |  0.2               |  9.2               | \n",
       "| 1998               | Women              | 78.10629           | 78.75766           | 79.12140           | 81.44502           | 81.39897           | 1996               | 1999               | <60% vs. 150% u.m. |  3.3               | -1.5               |  8.3               | \n",
       "| 2002               | Women              | 78.24117           | 79.42081           | 80.45627           | 81.53351           | 83.06447           | 2000               | 2003               | <60% vs. 150% u.m. |  4.8               |  0.4               |  9.3               | \n",
       "| 2006               | Women              | 78.21777           | 81.12637           | 81.96006           | 82.11380           | 82.72687           | 2004               | 2007               | <60% vs. 150% u.m. |  4.5               | -1.7               | 11.1               | \n",
       "| 2010               | Women              | 78.78426           | 77.92946           | 85.12300           | 82.67445           | 83.23733           | 2008               | 2011               | <60% vs. 150% u.m. |  4.5               | -2.6               | 11.6               | \n",
       "| 2014               | Women              | 78.00240           | 81.66405           | 83.50616           | 82.36370           | 85.10524           | 2012               | 2015               | <60% vs. 150% u.m. |  7.1               | -3.8               | 16.9               | \n",
       "\n",
       "\n"
      ],
      "text/plain": [
       "   year sex   <60%      60%-79%  80%-99% 100%-149% 150% u.m. begin end \n",
       "1  1994 Men   68.14727 70.06378 73.23286 72.78859  77.37307  1992  1995\n",
       "2  1998 Men   69.37311 71.87188 72.12991 74.36616  79.90337  1996  1999\n",
       "3  2002 Men   71.57333 73.40397 73.75882 76.63656  77.97920  2000  2003\n",
       "4  2006 Men   69.43489 75.36592 75.03893 78.26047  80.58622  2004  2007\n",
       "5  2010 Men   72.98021 72.71821 77.48447 78.18115  82.01307  2008  2011\n",
       "6  2014 Men   72.35246 75.46192 75.87723 78.73051  84.24366  2012  2015\n",
       "7  1994 Women 76.58993 77.62359 78.93736 79.80738  81.19369  1992  1995\n",
       "8  1998 Women 78.10629 78.75766 79.12140 81.44502  81.39897  1996  1999\n",
       "9  2002 Women 78.24117 79.42081 80.45627 81.53351  83.06447  2000  2003\n",
       "10 2006 Women 78.21777 81.12637 81.96006 82.11380  82.72687  2004  2007\n",
       "11 2010 Women 78.78426 77.92946 85.12300 82.67445  83.23733  2008  2011\n",
       "12 2014 Women 78.00240 81.66405 83.50616 82.36370  85.10524  2012  2015\n",
       "   Diff_label         Diff Diff_min Diff_max\n",
       "1  <60% vs. 150% u.m.  9.2  4.3     14.3    \n",
       "2  <60% vs. 150% u.m. 10.5  4.3     17.1    \n",
       "3  <60% vs. 150% u.m.  6.4  0.7     12.1    \n",
       "4  <60% vs. 150% u.m. 11.2  4.5     18.2    \n",
       "5  <60% vs. 150% u.m.  9.0  0.6     18.3    \n",
       "6  <60% vs. 150% u.m. 11.9  1.2     20.3    \n",
       "7  <60% vs. 150% u.m.  4.6  0.2      9.2    \n",
       "8  <60% vs. 150% u.m.  3.3 -1.5      8.3    \n",
       "9  <60% vs. 150% u.m.  4.8  0.4      9.3    \n",
       "10 <60% vs. 150% u.m.  4.5 -1.7     11.1    \n",
       "11 <60% vs. 150% u.m.  4.5 -2.6     11.6    \n",
       "12 <60% vs. 150% u.m.  7.1 -3.8     16.9    "
      ]
     },
     "metadata": {},
     "output_type": "display_data"
    },
    {
     "data": {},
     "metadata": {},
     "output_type": "display_data"
    },
    {
     "data": {},
     "metadata": {},
     "output_type": "display_data"
    },
    {
     "data": {
      "image/png": "[encoded data removed]",
      "text/plain": [
       "plot without title"
      ]
     },
     "metadata": {},
     "output_type": "display_data",
     "source": "R display func"
    },
    {
     "data": {},
     "metadata": {},
     "output_type": "display_data"
    },
    {
     "data": {
      "image/png": "[encoded data removed]",
      "text/plain": [
       "plot without title"
      ]
     },
     "metadata": {},
     "output_type": "display_data",
     "source": "R display func"
    },
    {
     "data": {
      "image/png": "[encoded data removed]",
      "text/plain": [
       "plot without title"
      ]
     },
     "metadata": {},
     "output_type": "display_data",
     "source": "R display func"
    }
   ],
   "source": [
    "plotdata <- anresult.le %>% filter(age %in% c(0,65))  %>% select(sex,begin,end,age,label,contains(\"LE\"),contains(\"Surv\")) %>% ungroup() %>% \n",
    "            mutate(Geschlecht=ifelse(sex==\"M\",\"Men\",\"Women\"),\n",
    "                  Geschlecht=ordered(Geschlecht,levels=c(\"Men\",\"Women\")),\n",
    "                  Jahr=round((begin+end)/2)) %>% arrange(sex,begin,label) %>% \n",
    "            mutate_at(vars(contains(\"Surv\")),funs(.*100))\n",
    "plotdata_at_birth <- plotdata %>% filter(age==0) %>% select(label,year=Jahr,sex=Geschlecht,LE_mean) %>% spread(label,LE_mean) %>% arrange(sex,year)\n",
    "\n",
    "# Data\n",
    "plotdata_at_birth <- plotdata %>% filter(age==0) %>% select(label,year=Jahr,sex=Geschlecht,LE_mean) %>% spread(label,LE_mean) %>% arrange(sex,year) %>%\n",
    "left_join(.,anresult.le  %>% show_lediff(.,agefilter=0) %>% ungroup() %>% \n",
    "          mutate(year=round((begin+end)/2),\n",
    "                 sex=ifelse(sex==\"M\",\"Men\",\"Women\"),\n",
    "                 sex=ordered(sex,levels=c(\"Men\",\"Women\"))) )\n",
    "wb <- loadWorkbook(\"Results_Mortality.xlsx\")\n",
    "addWorksheet(wb, \"Plot LE at birth\")\n",
    "writeDataTable(wb, \"Plot LE at birth\", plotdata_at_birth)\n",
    "plotdata_at_birth\n",
    "\n",
    "# LE\n",
    "trendplot <- ggplot(plotdata %>% filter(age==0), aes(x=Jahr, y=LE_mean, ymin=LE_min,ymax=LE_max, color=label)) + geom_point() + geom_line() +\n",
    "facet_grid(.~ Geschlecht)   + theme_rki(base_size = 10) + scale_color_rki() +\n",
    "labs(color=\"Income Position\", x=\"\" , y=\"Life Expectancy at birth\") + theme(legend.pos=\"bottom\") \n",
    "trendplot\n",
    "insertPlot(wb, \"Plot LE at birth\", width = 7.11, height = 4, startRow = 1,  startCol = length(plotdata_at_birth)+3 , fileType = \"png\", units = \"in\", dpi = 400)\n",
    "\n",
    "# Difference\n",
    "diffplot <- ggplot(plotdata_at_birth, aes(x=year , y=Diff, color=sex)) + geom_point() + theme_rki(base_size = 10) + scale_color_rki() +\n",
    "facet_grid(.~ sex) + geom_smooth(method=\"gam\")  + labs(y=\"LE at birth highest vs. lowest\") + guides(color=FALSE)\n",
    "diffplot\n",
    "insertPlot(wb, \"Plot LE at birth\", width = 7.11, height = 4, startRow = 22,  startCol = length(plotdata_at_birth)+3 , fileType = \"png\", units = \"in\", dpi = 400)\n",
    "\n",
    "# Effects\n",
    "effect_plot_trend <- anresult.le %>% select(sex,begin,end,label,youngest,oldest,estimate,contains(\"conf.\")) %>% \n",
    "group_by(sex,begin,end,label,estimate,conf.low,conf.high) %>% filter(row_number()==1) %>% ungroup() %>%\n",
    "mutate(Range=ifelse(oldest<max(oldest),paste0(\"Age: \",youngest,\"-\",oldest),paste0(\"Age: \",youngest,\"+\")),\n",
    "      sex=ifelse(sex==\"M\",\"Men\",\"Women\"),\n",
    "      Year=round((begin+end)/2))  %>% filter(label %in% c(\"<60%\",\"150% u.m.\")) %>%\n",
    "ggplot(., aes(x=Year,label=round(estimate,digits=1),y=estimate,group=label,color=label, fill=label)) +  \n",
    "geom_line() + geom_ribbon(aes(ymin=conf.low,ymax=conf.high), color=NA,alpha=.6) +\n",
    " theme_rki(base_size=8) + scale_color_rki(reverse=F) + scale_fill_rki(reverse=F) + \n",
    "facet_grid(sex ~ Range) +\n",
    "scale_y_log10(breaks=c(.5,1,2),labels=c(\".5\",\"Ref.\",\"2\")) + theme(legend.position=\"bottom\") +  \n",
    "labs(y=\"Hazard Ratio (Ref. Grand Mean)\",color=\"Income Position\") + guides(fill=FALSE)\n",
    "effect_plot_trend\n",
    "insertPlot(wb, \"Plot LE at birth\", width = 7.11, height = 4, startRow = 22,  startCol = 1 , fileType = \"png\", units = \"in\", dpi = 400)\n",
    "\n",
    "# Excel Export\n",
    "saveWorkbook(wb, \"Results_Mortality.xlsx\" , overwrite=TRUE)"
   ]
  },
  {
   "cell_type": "markdown",
   "metadata": {},
   "source": [
    "#### Life Expectancy at 65"
   ]
  },
  {
   "cell_type": "code",
   "execution_count": 15,
   "metadata": {},
   "outputs": [
    {
     "name": "stderr",
     "output_type": "stream",
     "text": [
      "Joining, by = c(\"year\", \"sex\")\n"
     ]
    },
    {
     "data": {
      "text/html": [
       "<table>\n",
       "<thead><tr><th scope=col>year</th><th scope=col>sex</th><th scope=col>&lt;60%</th><th scope=col> 60%-79%</th><th scope=col> 80%-99%</th><th scope=col>100%-149%</th><th scope=col>150% u.m.</th><th scope=col>begin</th><th scope=col>end</th><th scope=col>Diff_label</th><th scope=col>Diff</th><th scope=col>Diff_min</th><th scope=col>Diff_max</th></tr></thead>\n",
       "<tbody>\n",
       "\t<tr><td>1994                                         </td><td><span style=white-space:pre-wrap>Men  </span></td><td> 8.028074                                    </td><td> 8.780911                                    </td><td>11.004356                                    </td><td>10.79228                                     </td><td>14.79267                                     </td><td>1992                                         </td><td>1995                                         </td><td>&lt;60% vs. 150% u.m.                        </td><td> 6.8                                         </td><td> 3.6                                         </td><td> 9.8                                         </td></tr>\n",
       "\t<tr><td>1998                                         </td><td><span style=white-space:pre-wrap>Men  </span></td><td> 8.705933                                    </td><td>10.113667                                    </td><td> 9.933669                                    </td><td>12.39594                                     </td><td>16.54775                                     </td><td>1996                                         </td><td>1999                                         </td><td>&lt;60% vs. 150% u.m.                        </td><td> 7.8                                         </td><td> 3.6                                         </td><td>12.0                                         </td></tr>\n",
       "\t<tr><td>2002                                         </td><td><span style=white-space:pre-wrap>Men  </span></td><td>10.723328                                    </td><td>10.921456                                    </td><td>10.992627                                    </td><td>13.97957                                     </td><td>15.09479                                     </td><td>2000                                         </td><td>2003                                         </td><td>&lt;60% vs. 150% u.m.                        </td><td> 4.4                                         </td><td> 0.7                                         </td><td> 7.9                                         </td></tr>\n",
       "\t<tr><td>2006                                         </td><td><span style=white-space:pre-wrap>Men  </span></td><td> 9.114747                                    </td><td>13.053369                                    </td><td>12.396436                                    </td><td>14.83764                                     </td><td>16.85032                                     </td><td>2004                                         </td><td>2007                                         </td><td>&lt;60% vs. 150% u.m.                        </td><td> 7.7                                         </td><td> 3.5                                         </td><td>11.9                                         </td></tr>\n",
       "\t<tr><td>2010                                         </td><td><span style=white-space:pre-wrap>Men  </span></td><td>10.790724                                    </td><td>11.336368                                    </td><td>14.212447                                    </td><td>14.81187                                     </td><td>18.30298                                     </td><td>2008                                         </td><td>2011                                         </td><td>&lt;60% vs. 150% u.m.                        </td><td> 7.5                                         </td><td> 1.8                                         </td><td>13.2                                         </td></tr>\n",
       "\t<tr><td>2014                                         </td><td><span style=white-space:pre-wrap>Men  </span></td><td> 9.867159                                    </td><td>12.216075                                    </td><td>13.222012                                    </td><td>15.79427                                     </td><td>20.53898                                     </td><td>2012                                         </td><td>2015                                         </td><td>&lt;60% vs. 150% u.m.                        </td><td>10.7                                         </td><td> 3.7                                         </td><td>16.4                                         </td></tr>\n",
       "\t<tr><td>1994                 </td><td>Women                </td><td>13.992434            </td><td>14.252794            </td><td>15.377507            </td><td>16.31917             </td><td>17.45732             </td><td>1992                 </td><td>1995                 </td><td>&lt;60% vs. 150% u.m.</td><td> 3.5                 </td><td> 0.2                 </td><td> 6.8                 </td></tr>\n",
       "\t<tr><td>1998                 </td><td>Women                </td><td>15.091292            </td><td>15.581719            </td><td>15.692246            </td><td>17.64232             </td><td>17.33972             </td><td>1996                 </td><td>1999                 </td><td>&lt;60% vs. 150% u.m.</td><td> 2.2                 </td><td>-1.4                 </td><td> 6.0                 </td></tr>\n",
       "\t<tr><td>2002                 </td><td>Women                </td><td>14.936537            </td><td>15.877402            </td><td>16.782441            </td><td>17.96434             </td><td>18.89356             </td><td>2000                 </td><td>2003                 </td><td>&lt;60% vs. 150% u.m.</td><td> 4.0                 </td><td> 0.6                 </td><td> 7.3                 </td></tr>\n",
       "\t<tr><td>2006                 </td><td>Women                </td><td>15.263716            </td><td>17.097391            </td><td>17.984240            </td><td>17.99424             </td><td>19.10130             </td><td>2004                 </td><td>2007                 </td><td>&lt;60% vs. 150% u.m.</td><td> 3.8                 </td><td>-0.5                 </td><td> 8.2                 </td></tr>\n",
       "\t<tr><td>2010                 </td><td>Women                </td><td>15.347145            </td><td>15.641293            </td><td>20.894358            </td><td>18.40332             </td><td>19.05041             </td><td>2008                 </td><td>2011                 </td><td>&lt;60% vs. 150% u.m.</td><td> 3.7                 </td><td>-1.6                 </td><td> 8.9                 </td></tr>\n",
       "\t<tr><td>2014                 </td><td>Women                </td><td>14.636279            </td><td>17.421904            </td><td>19.316733            </td><td>18.71099             </td><td>21.15895             </td><td>2012                 </td><td>2015                 </td><td>&lt;60% vs. 150% u.m.</td><td> 6.5                 </td><td>-1.4                 </td><td>13.8                 </td></tr>\n",
       "</tbody>\n",
       "</table>\n"
      ],
      "text/latex": [
       "\\begin{tabular}{r|lllllllllllll}\n",
       " year & sex & <60\\% &  60\\%-79\\% &  80\\%-99\\% & 100\\%-149\\% & 150\\% u.m. & begin & end & Diff\\_label & Diff & Diff\\_min & Diff\\_max\\\\\n",
       "\\hline\n",
       "\t 1994                   & Men                    &  8.028074              &  8.780911              & 11.004356              & 10.79228               & 14.79267               & 1992                   & 1995                   & <60\\% vs. 150\\% u.m. &  6.8                   &  3.6                   &  9.8                  \\\\\n",
       "\t 1998                   & Men                    &  8.705933              & 10.113667              &  9.933669              & 12.39594               & 16.54775               & 1996                   & 1999                   & <60\\% vs. 150\\% u.m. &  7.8                   &  3.6                   & 12.0                  \\\\\n",
       "\t 2002                   & Men                    & 10.723328              & 10.921456              & 10.992627              & 13.97957               & 15.09479               & 2000                   & 2003                   & <60\\% vs. 150\\% u.m. &  4.4                   &  0.7                   &  7.9                  \\\\\n",
       "\t 2006                   & Men                    &  9.114747              & 13.053369              & 12.396436              & 14.83764               & 16.85032               & 2004                   & 2007                   & <60\\% vs. 150\\% u.m. &  7.7                   &  3.5                   & 11.9                  \\\\\n",
       "\t 2010                   & Men                    & 10.790724              & 11.336368              & 14.212447              & 14.81187               & 18.30298               & 2008                   & 2011                   & <60\\% vs. 150\\% u.m. &  7.5                   &  1.8                   & 13.2                  \\\\\n",
       "\t 2014                   & Men                    &  9.867159              & 12.216075              & 13.222012              & 15.79427               & 20.53898               & 2012                   & 2015                   & <60\\% vs. 150\\% u.m. & 10.7                   &  3.7                   & 16.4                  \\\\\n",
       "\t 1994                   & Women                  & 13.992434              & 14.252794              & 15.377507              & 16.31917               & 17.45732               & 1992                   & 1995                   & <60\\% vs. 150\\% u.m. &  3.5                   &  0.2                   &  6.8                  \\\\\n",
       "\t 1998                   & Women                  & 15.091292              & 15.581719              & 15.692246              & 17.64232               & 17.33972               & 1996                   & 1999                   & <60\\% vs. 150\\% u.m. &  2.2                   & -1.4                   &  6.0                  \\\\\n",
       "\t 2002                   & Women                  & 14.936537              & 15.877402              & 16.782441              & 17.96434               & 18.89356               & 2000                   & 2003                   & <60\\% vs. 150\\% u.m. &  4.0                   &  0.6                   &  7.3                  \\\\\n",
       "\t 2006                   & Women                  & 15.263716              & 17.097391              & 17.984240              & 17.99424               & 19.10130               & 2004                   & 2007                   & <60\\% vs. 150\\% u.m. &  3.8                   & -0.5                   &  8.2                  \\\\\n",
       "\t 2010                   & Women                  & 15.347145              & 15.641293              & 20.894358              & 18.40332               & 19.05041               & 2008                   & 2011                   & <60\\% vs. 150\\% u.m. &  3.7                   & -1.6                   &  8.9                  \\\\\n",
       "\t 2014                   & Women                  & 14.636279              & 17.421904              & 19.316733              & 18.71099               & 21.15895               & 2012                   & 2015                   & <60\\% vs. 150\\% u.m. &  6.5                   & -1.4                   & 13.8                  \\\\\n",
       "\\end{tabular}\n"
      ],
      "text/markdown": [
       "\n",
       "year | sex | <60% |  60%-79% |  80%-99% | 100%-149% | 150% u.m. | begin | end | Diff_label | Diff | Diff_min | Diff_max | \n",
       "|---|---|---|---|---|---|---|---|---|---|---|---|\n",
       "| 1994               | Men                |  8.028074          |  8.780911          | 11.004356          | 10.79228           | 14.79267           | 1992               | 1995               | <60% vs. 150% u.m. |  6.8               |  3.6               |  9.8               | \n",
       "| 1998               | Men                |  8.705933          | 10.113667          |  9.933669          | 12.39594           | 16.54775           | 1996               | 1999               | <60% vs. 150% u.m. |  7.8               |  3.6               | 12.0               | \n",
       "| 2002               | Men                | 10.723328          | 10.921456          | 10.992627          | 13.97957           | 15.09479           | 2000               | 2003               | <60% vs. 150% u.m. |  4.4               |  0.7               |  7.9               | \n",
       "| 2006               | Men                |  9.114747          | 13.053369          | 12.396436          | 14.83764           | 16.85032           | 2004               | 2007               | <60% vs. 150% u.m. |  7.7               |  3.5               | 11.9               | \n",
       "| 2010               | Men                | 10.790724          | 11.336368          | 14.212447          | 14.81187           | 18.30298           | 2008               | 2011               | <60% vs. 150% u.m. |  7.5               |  1.8               | 13.2               | \n",
       "| 2014               | Men                |  9.867159          | 12.216075          | 13.222012          | 15.79427           | 20.53898           | 2012               | 2015               | <60% vs. 150% u.m. | 10.7               |  3.7               | 16.4               | \n",
       "| 1994               | Women              | 13.992434          | 14.252794          | 15.377507          | 16.31917           | 17.45732           | 1992               | 1995               | <60% vs. 150% u.m. |  3.5               |  0.2               |  6.8               | \n",
       "| 1998               | Women              | 15.091292          | 15.581719          | 15.692246          | 17.64232           | 17.33972           | 1996               | 1999               | <60% vs. 150% u.m. |  2.2               | -1.4               |  6.0               | \n",
       "| 2002               | Women              | 14.936537          | 15.877402          | 16.782441          | 17.96434           | 18.89356           | 2000               | 2003               | <60% vs. 150% u.m. |  4.0               |  0.6               |  7.3               | \n",
       "| 2006               | Women              | 15.263716          | 17.097391          | 17.984240          | 17.99424           | 19.10130           | 2004               | 2007               | <60% vs. 150% u.m. |  3.8               | -0.5               |  8.2               | \n",
       "| 2010               | Women              | 15.347145          | 15.641293          | 20.894358          | 18.40332           | 19.05041           | 2008               | 2011               | <60% vs. 150% u.m. |  3.7               | -1.6               |  8.9               | \n",
       "| 2014               | Women              | 14.636279          | 17.421904          | 19.316733          | 18.71099           | 21.15895           | 2012               | 2015               | <60% vs. 150% u.m. |  6.5               | -1.4               | 13.8               | \n",
       "\n",
       "\n"
      ],
      "text/plain": [
       "   year sex   <60%       60%-79%   80%-99%  100%-149% 150% u.m. begin end \n",
       "1  1994 Men    8.028074  8.780911 11.004356 10.79228  14.79267  1992  1995\n",
       "2  1998 Men    8.705933 10.113667  9.933669 12.39594  16.54775  1996  1999\n",
       "3  2002 Men   10.723328 10.921456 10.992627 13.97957  15.09479  2000  2003\n",
       "4  2006 Men    9.114747 13.053369 12.396436 14.83764  16.85032  2004  2007\n",
       "5  2010 Men   10.790724 11.336368 14.212447 14.81187  18.30298  2008  2011\n",
       "6  2014 Men    9.867159 12.216075 13.222012 15.79427  20.53898  2012  2015\n",
       "7  1994 Women 13.992434 14.252794 15.377507 16.31917  17.45732  1992  1995\n",
       "8  1998 Women 15.091292 15.581719 15.692246 17.64232  17.33972  1996  1999\n",
       "9  2002 Women 14.936537 15.877402 16.782441 17.96434  18.89356  2000  2003\n",
       "10 2006 Women 15.263716 17.097391 17.984240 17.99424  19.10130  2004  2007\n",
       "11 2010 Women 15.347145 15.641293 20.894358 18.40332  19.05041  2008  2011\n",
       "12 2014 Women 14.636279 17.421904 19.316733 18.71099  21.15895  2012  2015\n",
       "   Diff_label         Diff Diff_min Diff_max\n",
       "1  <60% vs. 150% u.m.  6.8  3.6      9.8    \n",
       "2  <60% vs. 150% u.m.  7.8  3.6     12.0    \n",
       "3  <60% vs. 150% u.m.  4.4  0.7      7.9    \n",
       "4  <60% vs. 150% u.m.  7.7  3.5     11.9    \n",
       "5  <60% vs. 150% u.m.  7.5  1.8     13.2    \n",
       "6  <60% vs. 150% u.m. 10.7  3.7     16.4    \n",
       "7  <60% vs. 150% u.m.  3.5  0.2      6.8    \n",
       "8  <60% vs. 150% u.m.  2.2 -1.4      6.0    \n",
       "9  <60% vs. 150% u.m.  4.0  0.6      7.3    \n",
       "10 <60% vs. 150% u.m.  3.8 -0.5      8.2    \n",
       "11 <60% vs. 150% u.m.  3.7 -1.6      8.9    \n",
       "12 <60% vs. 150% u.m.  6.5 -1.4     13.8    "
      ]
     },
     "metadata": {},
     "output_type": "display_data"
    },
    {
     "data": {},
     "metadata": {},
     "output_type": "display_data"
    },
    {
     "data": {},
     "metadata": {},
     "output_type": "display_data"
    },
    {
     "data": {
      "image/png": "[encoded data removed]",
      "text/plain": [
       "plot without title"
      ]
     },
     "metadata": {},
     "output_type": "display_data",
     "source": "R display func"
    },
    {
     "data": {},
     "metadata": {},
     "output_type": "display_data"
    },
    {
     "data": {
      "image/png": "[encoded data removed]",
      "text/plain": [
       "plot without title"
      ]
     },
     "metadata": {},
     "output_type": "display_data",
     "source": "R display func"
    },
    {
     "data": {
      "image/png": "[encoded data removed]",
      "text/plain": [
       "plot without title"
      ]
     },
     "metadata": {},
     "output_type": "display_data",
     "source": "R display func"
    }
   ],
   "source": [
    "# Data\n",
    "plotdata_at_65 <- plotdata %>% filter(age==65) %>% select(label,year=Jahr,sex=Geschlecht,LE_mean) %>% spread(label,LE_mean) %>% arrange(sex,year) %>%\n",
    "left_join(.,anresult.le  %>% show_lediff(.,agefilter=65) %>% ungroup() %>% \n",
    "          mutate(year=round((begin+end)/2),\n",
    "                 sex=ifelse(sex==\"M\",\"Men\",\"Women\"),\n",
    "                 sex=ordered(sex,levels=c(\"Men\",\"Women\"))) )\n",
    "wb <- loadWorkbook(\"Results_Mortality.xlsx\")\n",
    "addWorksheet(wb, \"Plot LE at 65\")\n",
    "writeDataTable(wb, \"Plot LE at 65\", plotdata_at_65)\n",
    "plotdata_at_65\n",
    "\n",
    "# LE\n",
    "trendplot <- ggplot(plotdata %>% filter(age==65), aes(x=Jahr, y=LE_mean, ymin=LE_min,ymax=LE_max, color=label)) + geom_point() + geom_line() +\n",
    "facet_grid(.~ Geschlecht)   + theme_rki(base_size = 10) + scale_color_rki() +\n",
    "labs(color=\"Income Position\", x=\"\" , y=\"Life Expectancy at 65\") + theme(legend.pos=\"bottom\") \n",
    "trendplot\n",
    "insertPlot(wb, \"Plot LE at 65\", width = 7.11, height = 4, startRow = 1,  startCol = length(plotdata_at_birth)+3 , fileType = \"png\", units = \"in\", dpi = 400)\n",
    "\n",
    "# Surv\n",
    "trendplot_surv <- ggplot(plotdata %>% filter(age==65), aes(x=Jahr, y=100-Surv_mean, ymin=Surv_min,ymax=Surv_max, color=label)) + geom_point() + geom_line() +\n",
    "facet_grid(.~ Geschlecht)   + theme_rki(base_size = 10) + scale_color_rki() +\n",
    "labs(color=\"Income Position\", x=\"\" , y=\"Mortality before age of 65\") + theme(legend.pos=\"bottom\") +  coord_cartesian(ylim=c(0,50))\n",
    "trendplot_surv\n",
    "insertPlot(wb, \"Plot LE at 65\", width = 7.11, height = 4, startRow = 22,  startCol = 1 , fileType = \"png\", units = \"in\", dpi = 400)\n",
    "\n",
    "\n",
    "# Difference\n",
    "diffplot <- ggplot(plotdata_at_65 , aes(x=year , y=Diff, color=sex)) + geom_point() + theme_rki(base_size = 10) + scale_color_rki() +\n",
    "facet_grid(.~ sex) + geom_smooth(method=\"gam\")  + labs(y=\"LE at 65 highest vs. lowest\")  + guides(color=FALSE)\n",
    "diffplot\n",
    "insertPlot(wb, \"Plot LE at 65\", width = 7.11, height = 4, startRow = 22,  startCol = length(plotdata_at_birth)+3 , fileType = \"png\", units = \"in\", dpi = 400)\n",
    "\n",
    "# Excel Export\n",
    "saveWorkbook(wb, \"Results_Mortality.xlsx\" , overwrite=TRUE)"
   ]
  },
  {
   "cell_type": "markdown",
   "metadata": {},
   "source": [
    "# Information on R Session and Packages"
   ]
  },
  {
   "cell_type": "code",
   "execution_count": 16,
   "metadata": {},
   "outputs": [
    {
     "data": {
      "text/plain": [
       "R version 3.5.0 (2018-04-23)\n",
       "Platform: x86_64-pc-linux-gnu (64-bit)\n",
       "Running under: Debian GNU/Linux 9 (stretch)\n",
       "\n",
       "Matrix products: default\n",
       "BLAS: /scratch/krolll/LK_R/lib/R/lib/libRblas.so\n",
       "LAPACK: /scratch/krolll/LK_R/lib/R/lib/libRlapack.so\n",
       "\n",
       "locale:\n",
       "[1] en_US.UTF-8\n",
       "\n",
       "attached base packages:\n",
       "[1] parallel  grid      stats     graphics  grDevices utils     datasets \n",
       "[8] methods   base     \n",
       "\n",
       "other attached packages:\n",
       " [1] bindrcpp_0.2.2   openxlsx_4.1.0   doMC_1.3.5       iterators_1.0.10\n",
       " [5] foreach_1.5.0    srvyr_0.3.3      survey_3.33-2    Matrix_1.2-14   \n",
       " [9] haven_1.1.1      ggfortify_0.4.5  wec_0.4-1        rkicolors_0.1.0 \n",
       "[13] survival_2.41-3  broom_0.4.4      forcats_0.3.0    stringr_1.3.1   \n",
       "[17] dplyr_0.7.6      purrr_0.2.4      readr_1.1.1      tidyr_0.8.1     \n",
       "[21] tibble_1.4.2     ggplot2_2.2.1    tidyverse_1.2.1 \n",
       "\n",
       "loaded via a namespace (and not attached):\n",
       " [1] Rcpp_0.12.18     lubridate_1.7.4  lattice_0.20-35  assertthat_0.2.0\n",
       " [5] digest_0.6.15    psych_1.8.4      IRdisplay_0.5.0  R6_2.2.2        \n",
       " [9] cellranger_1.1.0 plyr_1.8.4       repr_0.15.0      evaluate_0.10.1 \n",
       "[13] httr_1.3.1       pillar_1.2.3     rlang_0.2.2      lazyeval_0.2.1  \n",
       "[17] uuid_0.1-2       readxl_1.1.0     labeling_0.3     splines_3.5.0   \n",
       "[21] foreign_0.8-70   munsell_0.4.3    compiler_3.5.0   modelr_0.1.2    \n",
       "[25] pkgconfig_2.0.2  base64enc_0.1-3  mnormt_1.5-5     mgcv_1.8-23     \n",
       "[29] htmltools_0.3.6  tidyselect_0.2.4 gridExtra_2.3    codetools_0.2-15\n",
       "[33] crayon_1.3.4     nlme_3.1-137     jsonlite_1.5     gtable_0.2.0    \n",
       "[37] magrittr_1.5     scales_0.5.0     zip_1.0.0        cli_1.0.0       \n",
       "[41] stringi_1.1.7    reshape2_1.4.3   xml2_1.2.0       IRkernel_0.8.11 \n",
       "[45] tools_3.5.0      glue_1.3.0       hms_0.4.2        colorspace_1.3-2\n",
       "[49] rvest_0.3.2      pbdZMQ_0.3-3     bindr_0.1.1     "
      ]
     },
     "metadata": {},
     "output_type": "display_data"
    }
   ],
   "source": [
    "sessionInfo()"
   ]
  }
 ],
 "metadata": {
  "kernelspec": {
   "display_name": "R",
   "language": "R",
   "name": "ir"
  },
  "language_info": {
   "codemirror_mode": "r",
   "file_extension": ".r",
   "mimetype": "text/x-r-source",
   "name": "R",
   "pygments_lexer": "r",
   "version": "3.5.0"
  }
 },
 "nbformat": 4,
 "nbformat_minor": 2
}
